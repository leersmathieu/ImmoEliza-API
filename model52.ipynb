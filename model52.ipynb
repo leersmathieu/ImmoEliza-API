{
 "cells": [
  {
   "cell_type": "markdown",
   "metadata": {
    "collapsed": true
   },
   "source": [
    "# Prediction Model\n",
    "\n"
   ]
  },
  {
   "cell_type": "code",
   "execution_count": 1,
   "metadata": {},
   "outputs": [],
   "source": [
    "# importing librairies ...\n",
    "import pandas as pd\n",
    "import numpy as np\n",
    "import matplotlib.pyplot as plt\n",
    "from mpl_toolkits.mplot3d import Axes3D\n",
    "import seaborn as sns\n",
    "\n",
    "from sklearn.model_selection import train_test_split\n",
    "from sklearn import datasets, linear_model\n",
    "\n",
    "# %matplotlib notebook"
   ]
  },
  {
   "cell_type": "code",
   "execution_count": 2,
   "metadata": {
    "pycharm": {
     "name": "#%%\n"
    }
   },
   "outputs": [],
   "source": [
    "# The first step is to retrieve cleaned data \n",
    "df = pd.read_csv('./dataset/immoCollect52-clean.csv', index_col = 0)"
   ]
  },
  {
   "cell_type": "markdown",
   "metadata": {},
   "source": [
    "## Cleaning / manipulation \n",
    "\n",
    "First, I'm going to do a little data cleansing to make sure that it corresponds precisely to my expectations for this project."
   ]
  },
  {
   "cell_type": "code",
   "execution_count": 3,
   "metadata": {
    "pycharm": {
     "name": "#%%\n"
    }
   },
   "outputs": [
    {
     "name": "stdout",
     "output_type": "stream",
     "text": [
      "(40791, 17)\n"
     ]
    },
    {
     "data": {
      "text/html": [
       "<div>\n",
       "<style scoped>\n",
       "    .dataframe tbody tr th:only-of-type {\n",
       "        vertical-align: middle;\n",
       "    }\n",
       "\n",
       "    .dataframe tbody tr th {\n",
       "        vertical-align: top;\n",
       "    }\n",
       "\n",
       "    .dataframe thead th {\n",
       "        text-align: right;\n",
       "    }\n",
       "</style>\n",
       "<table border=\"1\" class=\"dataframe\">\n",
       "  <thead>\n",
       "    <tr style=\"text-align: right;\">\n",
       "      <th></th>\n",
       "      <th>postal_code</th>\n",
       "      <th>type_of_property</th>\n",
       "      <th>price</th>\n",
       "      <th>number_of_bedroom</th>\n",
       "      <th>house_area</th>\n",
       "      <th>fully_equipped_kitchen</th>\n",
       "      <th>terrace</th>\n",
       "      <th>garden</th>\n",
       "      <th>is_new</th>\n",
       "      <th>locality</th>\n",
       "      <th>district</th>\n",
       "      <th>province</th>\n",
       "      <th>province_int</th>\n",
       "      <th>region</th>\n",
       "      <th>region_int</th>\n",
       "      <th>district_int</th>\n",
       "      <th>ratio_free_build</th>\n",
       "    </tr>\n",
       "  </thead>\n",
       "  <tbody>\n",
       "    <tr>\n",
       "      <th>6</th>\n",
       "      <td>1650</td>\n",
       "      <td>0</td>\n",
       "      <td>525000</td>\n",
       "      <td>4</td>\n",
       "      <td>220</td>\n",
       "      <td>1</td>\n",
       "      <td>1</td>\n",
       "      <td>1</td>\n",
       "      <td>0</td>\n",
       "      <td>Beersel</td>\n",
       "      <td>Hal-Vilvorde</td>\n",
       "      <td>brabant-flamand</td>\n",
       "      <td>5.0</td>\n",
       "      <td>flandre</td>\n",
       "      <td>0.0</td>\n",
       "      <td>8.0</td>\n",
       "      <td>-2.851322</td>\n",
       "    </tr>\n",
       "    <tr>\n",
       "      <th>9</th>\n",
       "      <td>1332</td>\n",
       "      <td>0</td>\n",
       "      <td>549000</td>\n",
       "      <td>4</td>\n",
       "      <td>210</td>\n",
       "      <td>1</td>\n",
       "      <td>1</td>\n",
       "      <td>1</td>\n",
       "      <td>1</td>\n",
       "      <td>Rixensart</td>\n",
       "      <td>Nivelles</td>\n",
       "      <td>brabant-wallon</td>\n",
       "      <td>8.0</td>\n",
       "      <td>wallonie</td>\n",
       "      <td>1.0</td>\n",
       "      <td>4.0</td>\n",
       "      <td>-3.410265</td>\n",
       "    </tr>\n",
       "    <tr>\n",
       "      <th>10</th>\n",
       "      <td>8310</td>\n",
       "      <td>0</td>\n",
       "      <td>519000</td>\n",
       "      <td>3</td>\n",
       "      <td>273</td>\n",
       "      <td>1</td>\n",
       "      <td>0</td>\n",
       "      <td>1</td>\n",
       "      <td>1</td>\n",
       "      <td>Brugge</td>\n",
       "      <td>Brugge</td>\n",
       "      <td>flandre-occidentale</td>\n",
       "      <td>0.0</td>\n",
       "      <td>flandre</td>\n",
       "      <td>0.0</td>\n",
       "      <td>28.0</td>\n",
       "      <td>-2.429051</td>\n",
       "    </tr>\n",
       "    <tr>\n",
       "      <th>12</th>\n",
       "      <td>8200</td>\n",
       "      <td>0</td>\n",
       "      <td>535000</td>\n",
       "      <td>4</td>\n",
       "      <td>200</td>\n",
       "      <td>1</td>\n",
       "      <td>1</td>\n",
       "      <td>1</td>\n",
       "      <td>1</td>\n",
       "      <td>Brugge</td>\n",
       "      <td>Brugge</td>\n",
       "      <td>flandre-occidentale</td>\n",
       "      <td>0.0</td>\n",
       "      <td>flandre</td>\n",
       "      <td>0.0</td>\n",
       "      <td>28.0</td>\n",
       "      <td>-2.429051</td>\n",
       "    </tr>\n",
       "    <tr>\n",
       "      <th>13</th>\n",
       "      <td>1421</td>\n",
       "      <td>0</td>\n",
       "      <td>105000</td>\n",
       "      <td>1</td>\n",
       "      <td>82</td>\n",
       "      <td>0</td>\n",
       "      <td>0</td>\n",
       "      <td>1</td>\n",
       "      <td>0</td>\n",
       "      <td>Braine-l'Alleud</td>\n",
       "      <td>Nivelles</td>\n",
       "      <td>brabant-wallon</td>\n",
       "      <td>8.0</td>\n",
       "      <td>wallonie</td>\n",
       "      <td>1.0</td>\n",
       "      <td>4.0</td>\n",
       "      <td>-2.645463</td>\n",
       "    </tr>\n",
       "  </tbody>\n",
       "</table>\n",
       "</div>"
      ],
      "text/plain": [
       "    postal_code  type_of_property   price  number_of_bedroom  house_area  \\\n",
       "6          1650                 0  525000                  4         220   \n",
       "9          1332                 0  549000                  4         210   \n",
       "10         8310                 0  519000                  3         273   \n",
       "12         8200                 0  535000                  4         200   \n",
       "13         1421                 0  105000                  1          82   \n",
       "\n",
       "    fully_equipped_kitchen  terrace  garden  is_new         locality  \\\n",
       "6                        1        1       1       0          Beersel   \n",
       "9                        1        1       1       1        Rixensart   \n",
       "10                       1        0       1       1           Brugge   \n",
       "12                       1        1       1       1           Brugge   \n",
       "13                       0        0       1       0  Braine-l'Alleud   \n",
       "\n",
       "        district             province  province_int    region  region_int  \\\n",
       "6   Hal-Vilvorde      brabant-flamand           5.0   flandre         0.0   \n",
       "9       Nivelles       brabant-wallon           8.0  wallonie         1.0   \n",
       "10        Brugge  flandre-occidentale           0.0   flandre         0.0   \n",
       "12        Brugge  flandre-occidentale           0.0   flandre         0.0   \n",
       "13      Nivelles       brabant-wallon           8.0  wallonie         1.0   \n",
       "\n",
       "    district_int  ratio_free_build  \n",
       "6            8.0         -2.851322  \n",
       "9            4.0         -3.410265  \n",
       "10          28.0         -2.429051  \n",
       "12          28.0         -2.429051  \n",
       "13           4.0         -2.645463  "
      ]
     },
     "execution_count": 3,
     "metadata": {},
     "output_type": "execute_result"
    }
   ],
   "source": [
    "print(df.shape)\n",
    "df.head()"
   ]
  },
  {
   "cell_type": "code",
   "execution_count": 4,
   "metadata": {},
   "outputs": [],
   "source": [
    "# I retrieve only utils columns for my model\n",
    "df = df.iloc[:,0:9]"
   ]
  },
  {
   "cell_type": "code",
   "execution_count": 6,
   "metadata": {},
   "outputs": [
    {
     "data": {
      "text/html": [
       "<div>\n",
       "<style scoped>\n",
       "    .dataframe tbody tr th:only-of-type {\n",
       "        vertical-align: middle;\n",
       "    }\n",
       "\n",
       "    .dataframe tbody tr th {\n",
       "        vertical-align: top;\n",
       "    }\n",
       "\n",
       "    .dataframe thead th {\n",
       "        text-align: right;\n",
       "    }\n",
       "</style>\n",
       "<table border=\"1\" class=\"dataframe\">\n",
       "  <thead>\n",
       "    <tr style=\"text-align: right;\">\n",
       "      <th></th>\n",
       "      <th>postal_code</th>\n",
       "      <th>type_of_property</th>\n",
       "      <th>price</th>\n",
       "      <th>number_of_bedroom</th>\n",
       "      <th>house_area</th>\n",
       "      <th>fully_equipped_kitchen</th>\n",
       "      <th>terrace</th>\n",
       "      <th>garden</th>\n",
       "      <th>is_new</th>\n",
       "    </tr>\n",
       "  </thead>\n",
       "  <tbody>\n",
       "    <tr>\n",
       "      <th>6</th>\n",
       "      <td>1650</td>\n",
       "      <td>0</td>\n",
       "      <td>525000</td>\n",
       "      <td>4</td>\n",
       "      <td>220</td>\n",
       "      <td>1</td>\n",
       "      <td>1</td>\n",
       "      <td>1</td>\n",
       "      <td>0</td>\n",
       "    </tr>\n",
       "    <tr>\n",
       "      <th>9</th>\n",
       "      <td>1332</td>\n",
       "      <td>0</td>\n",
       "      <td>549000</td>\n",
       "      <td>4</td>\n",
       "      <td>210</td>\n",
       "      <td>1</td>\n",
       "      <td>1</td>\n",
       "      <td>1</td>\n",
       "      <td>1</td>\n",
       "    </tr>\n",
       "    <tr>\n",
       "      <th>10</th>\n",
       "      <td>8310</td>\n",
       "      <td>0</td>\n",
       "      <td>519000</td>\n",
       "      <td>3</td>\n",
       "      <td>273</td>\n",
       "      <td>1</td>\n",
       "      <td>0</td>\n",
       "      <td>1</td>\n",
       "      <td>1</td>\n",
       "    </tr>\n",
       "    <tr>\n",
       "      <th>12</th>\n",
       "      <td>8200</td>\n",
       "      <td>0</td>\n",
       "      <td>535000</td>\n",
       "      <td>4</td>\n",
       "      <td>200</td>\n",
       "      <td>1</td>\n",
       "      <td>1</td>\n",
       "      <td>1</td>\n",
       "      <td>1</td>\n",
       "    </tr>\n",
       "    <tr>\n",
       "      <th>13</th>\n",
       "      <td>1421</td>\n",
       "      <td>0</td>\n",
       "      <td>105000</td>\n",
       "      <td>1</td>\n",
       "      <td>82</td>\n",
       "      <td>0</td>\n",
       "      <td>0</td>\n",
       "      <td>1</td>\n",
       "      <td>0</td>\n",
       "    </tr>\n",
       "  </tbody>\n",
       "</table>\n",
       "</div>"
      ],
      "text/plain": [
       "    postal_code  type_of_property   price  number_of_bedroom  house_area  \\\n",
       "6          1650                 0  525000                  4         220   \n",
       "9          1332                 0  549000                  4         210   \n",
       "10         8310                 0  519000                  3         273   \n",
       "12         8200                 0  535000                  4         200   \n",
       "13         1421                 0  105000                  1          82   \n",
       "\n",
       "    fully_equipped_kitchen  terrace  garden  is_new  \n",
       "6                        1        1       1       0  \n",
       "9                        1        1       1       1  \n",
       "10                       1        0       1       1  \n",
       "12                       1        1       1       1  \n",
       "13                       0        0       1       0  "
      ]
     },
     "execution_count": 6,
     "metadata": {},
     "output_type": "execute_result"
    }
   ],
   "source": [
    "df_house = df[df['type_of_property'] == 0]\n",
    "df_apartment = df[df['type_of_property'] == 1]"
   ]
  },
  {
   "cell_type": "code",
   "execution_count": 7,
   "metadata": {},
   "outputs": [
    {
     "data": {
      "text/html": [
       "<div>\n",
       "<style scoped>\n",
       "    .dataframe tbody tr th:only-of-type {\n",
       "        vertical-align: middle;\n",
       "    }\n",
       "\n",
       "    .dataframe tbody tr th {\n",
       "        vertical-align: top;\n",
       "    }\n",
       "\n",
       "    .dataframe thead th {\n",
       "        text-align: right;\n",
       "    }\n",
       "</style>\n",
       "<table border=\"1\" class=\"dataframe\">\n",
       "  <thead>\n",
       "    <tr style=\"text-align: right;\">\n",
       "      <th></th>\n",
       "      <th>postal_code</th>\n",
       "      <th>type_of_property</th>\n",
       "      <th>price</th>\n",
       "      <th>number_of_bedroom</th>\n",
       "      <th>house_area</th>\n",
       "      <th>fully_equipped_kitchen</th>\n",
       "      <th>terrace</th>\n",
       "      <th>garden</th>\n",
       "      <th>is_new</th>\n",
       "    </tr>\n",
       "  </thead>\n",
       "  <tbody>\n",
       "    <tr>\n",
       "      <th>5519</th>\n",
       "      <td>4000</td>\n",
       "      <td>1</td>\n",
       "      <td>45000</td>\n",
       "      <td>1</td>\n",
       "      <td>47</td>\n",
       "      <td>0</td>\n",
       "      <td>1</td>\n",
       "      <td>0</td>\n",
       "      <td>0</td>\n",
       "    </tr>\n",
       "    <tr>\n",
       "      <th>5520</th>\n",
       "      <td>4020</td>\n",
       "      <td>1</td>\n",
       "      <td>25000</td>\n",
       "      <td>1</td>\n",
       "      <td>125</td>\n",
       "      <td>1</td>\n",
       "      <td>1</td>\n",
       "      <td>0</td>\n",
       "      <td>1</td>\n",
       "    </tr>\n",
       "    <tr>\n",
       "      <th>5521</th>\n",
       "      <td>4020</td>\n",
       "      <td>1</td>\n",
       "      <td>25000</td>\n",
       "      <td>3</td>\n",
       "      <td>142</td>\n",
       "      <td>1</td>\n",
       "      <td>1</td>\n",
       "      <td>0</td>\n",
       "      <td>1</td>\n",
       "    </tr>\n",
       "    <tr>\n",
       "      <th>5523</th>\n",
       "      <td>6180</td>\n",
       "      <td>1</td>\n",
       "      <td>20000</td>\n",
       "      <td>1</td>\n",
       "      <td>115</td>\n",
       "      <td>1</td>\n",
       "      <td>0</td>\n",
       "      <td>1</td>\n",
       "      <td>0</td>\n",
       "    </tr>\n",
       "    <tr>\n",
       "      <th>5524</th>\n",
       "      <td>1030</td>\n",
       "      <td>1</td>\n",
       "      <td>50000</td>\n",
       "      <td>2</td>\n",
       "      <td>96</td>\n",
       "      <td>1</td>\n",
       "      <td>0</td>\n",
       "      <td>0</td>\n",
       "      <td>0</td>\n",
       "    </tr>\n",
       "  </tbody>\n",
       "</table>\n",
       "</div>"
      ],
      "text/plain": [
       "      postal_code  type_of_property  price  number_of_bedroom  house_area  \\\n",
       "5519         4000                 1  45000                  1          47   \n",
       "5520         4020                 1  25000                  1         125   \n",
       "5521         4020                 1  25000                  3         142   \n",
       "5523         6180                 1  20000                  1         115   \n",
       "5524         1030                 1  50000                  2          96   \n",
       "\n",
       "      fully_equipped_kitchen  terrace  garden  is_new  \n",
       "5519                       0        1       0       0  \n",
       "5520                       1        1       0       1  \n",
       "5521                       1        1       0       1  \n",
       "5523                       1        0       1       0  \n",
       "5524                       1        0       0       0  "
      ]
     },
     "execution_count": 7,
     "metadata": {},
     "output_type": "execute_result"
    }
   ],
   "source": [
    "df_apartment.head()"
   ]
  },
  {
   "cell_type": "markdown",
   "metadata": {},
   "source": [
    "## Let's train and predict for HOUSE !"
   ]
  },
  {
   "cell_type": "code",
   "execution_count": 8,
   "metadata": {},
   "outputs": [
    {
     "data": {
      "image/png": "[encoded data removed]",
      "text/plain": [
       "<Figure size 1152x576 with 2 Axes>"
      ]
     },
     "metadata": {
      "needs_background": "light"
     },
     "output_type": "display_data"
    }
   ],
   "source": [
    "# Print the heatmap\n",
    "plt.subplots(figsize=(16, 8))   \n",
    "sns.heatmap(df_house.corr(), annot=True, linewidths=0.05, fmt= '.2f', vmin=-1, vmax=1, center=0, cmap=sns.diverging_palette(20, 220, n=200))\n",
    "\n",
    "plt.show()"
   ]
  },
  {
   "cell_type": "code",
   "execution_count": 9,
   "metadata": {},
   "outputs": [
    {
     "data": {
      "text/html": [
       "<div>\n",
       "<style scoped>\n",
       "    .dataframe tbody tr th:only-of-type {\n",
       "        vertical-align: middle;\n",
       "    }\n",
       "\n",
       "    .dataframe tbody tr th {\n",
       "        vertical-align: top;\n",
       "    }\n",
       "\n",
       "    .dataframe thead th {\n",
       "        text-align: right;\n",
       "    }\n",
       "</style>\n",
       "<table border=\"1\" class=\"dataframe\">\n",
       "  <thead>\n",
       "    <tr style=\"text-align: right;\">\n",
       "      <th></th>\n",
       "      <th>postal_code</th>\n",
       "      <th>type_of_property</th>\n",
       "      <th>number_of_bedroom</th>\n",
       "      <th>house_area</th>\n",
       "      <th>fully_equipped_kitchen</th>\n",
       "      <th>terrace</th>\n",
       "      <th>garden</th>\n",
       "      <th>is_new</th>\n",
       "    </tr>\n",
       "  </thead>\n",
       "  <tbody>\n",
       "    <tr>\n",
       "      <th>6</th>\n",
       "      <td>1650</td>\n",
       "      <td>0</td>\n",
       "      <td>4</td>\n",
       "      <td>220</td>\n",
       "      <td>1</td>\n",
       "      <td>1</td>\n",
       "      <td>1</td>\n",
       "      <td>0</td>\n",
       "    </tr>\n",
       "    <tr>\n",
       "      <th>9</th>\n",
       "      <td>1332</td>\n",
       "      <td>0</td>\n",
       "      <td>4</td>\n",
       "      <td>210</td>\n",
       "      <td>1</td>\n",
       "      <td>1</td>\n",
       "      <td>1</td>\n",
       "      <td>1</td>\n",
       "    </tr>\n",
       "    <tr>\n",
       "      <th>10</th>\n",
       "      <td>8310</td>\n",
       "      <td>0</td>\n",
       "      <td>3</td>\n",
       "      <td>273</td>\n",
       "      <td>1</td>\n",
       "      <td>0</td>\n",
       "      <td>1</td>\n",
       "      <td>1</td>\n",
       "    </tr>\n",
       "    <tr>\n",
       "      <th>12</th>\n",
       "      <td>8200</td>\n",
       "      <td>0</td>\n",
       "      <td>4</td>\n",
       "      <td>200</td>\n",
       "      <td>1</td>\n",
       "      <td>1</td>\n",
       "      <td>1</td>\n",
       "      <td>1</td>\n",
       "    </tr>\n",
       "    <tr>\n",
       "      <th>13</th>\n",
       "      <td>1421</td>\n",
       "      <td>0</td>\n",
       "      <td>1</td>\n",
       "      <td>82</td>\n",
       "      <td>0</td>\n",
       "      <td>0</td>\n",
       "      <td>1</td>\n",
       "      <td>0</td>\n",
       "    </tr>\n",
       "  </tbody>\n",
       "</table>\n",
       "</div>"
      ],
      "text/plain": [
       "    postal_code  type_of_property  number_of_bedroom  house_area  \\\n",
       "6          1650                 0                  4         220   \n",
       "9          1332                 0                  4         210   \n",
       "10         8310                 0                  3         273   \n",
       "12         8200                 0                  4         200   \n",
       "13         1421                 0                  1          82   \n",
       "\n",
       "    fully_equipped_kitchen  terrace  garden  is_new  \n",
       "6                        1        1       1       0  \n",
       "9                        1        1       1       1  \n",
       "10                       1        0       1       1  \n",
       "12                       1        1       1       1  \n",
       "13                       0        0       1       0  "
      ]
     },
     "execution_count": 9,
     "metadata": {},
     "output_type": "execute_result"
    }
   ],
   "source": [
    "X = df_house.drop(columns='price')\n",
    "X.head()"
   ]
  },
  {
   "cell_type": "code",
   "execution_count": 10,
   "metadata": {},
   "outputs": [
    {
     "data": {
      "text/html": [
       "<div>\n",
       "<style scoped>\n",
       "    .dataframe tbody tr th:only-of-type {\n",
       "        vertical-align: middle;\n",
       "    }\n",
       "\n",
       "    .dataframe tbody tr th {\n",
       "        vertical-align: top;\n",
       "    }\n",
       "\n",
       "    .dataframe thead th {\n",
       "        text-align: right;\n",
       "    }\n",
       "</style>\n",
       "<table border=\"1\" class=\"dataframe\">\n",
       "  <thead>\n",
       "    <tr style=\"text-align: right;\">\n",
       "      <th></th>\n",
       "      <th>price</th>\n",
       "    </tr>\n",
       "  </thead>\n",
       "  <tbody>\n",
       "    <tr>\n",
       "      <th>6</th>\n",
       "      <td>525000</td>\n",
       "    </tr>\n",
       "    <tr>\n",
       "      <th>9</th>\n",
       "      <td>549000</td>\n",
       "    </tr>\n",
       "    <tr>\n",
       "      <th>10</th>\n",
       "      <td>519000</td>\n",
       "    </tr>\n",
       "    <tr>\n",
       "      <th>12</th>\n",
       "      <td>535000</td>\n",
       "    </tr>\n",
       "    <tr>\n",
       "      <th>13</th>\n",
       "      <td>105000</td>\n",
       "    </tr>\n",
       "  </tbody>\n",
       "</table>\n",
       "</div>"
      ],
      "text/plain": [
       "     price\n",
       "6   525000\n",
       "9   549000\n",
       "10  519000\n",
       "12  535000\n",
       "13  105000"
      ]
     },
     "execution_count": 10,
     "metadata": {},
     "output_type": "execute_result"
    }
   ],
   "source": [
    "y = df_house[['price']]\n",
    "y.head()"
   ]
  },
  {
   "cell_type": "code",
   "execution_count": 11,
   "metadata": {},
   "outputs": [
    {
     "data": {
      "image/png": "[encoded data removed]",
      "text/plain": [
       "<Figure size 432x288 with 1 Axes>"
      ]
     },
     "metadata": {
      "needs_background": "light"
     },
     "output_type": "display_data"
    }
   ],
   "source": [
    "# %matplotlib notebook\n",
    "fig = plt.figure()\n",
    "\n",
    "ax = fig.add_subplot(111, projection='3d')\n",
    "ax.scatter3D( X['number_of_bedroom'],X['house_area'], y, c=y, cmap='gist_heat')\n",
    "ax.view_init(27, -64)"
   ]
  },
  {
   "cell_type": "markdown",
   "metadata": {},
   "source": [
    "### Split the dataset"
   ]
  },
  {
   "cell_type": "code",
   "execution_count": 12,
   "metadata": {},
   "outputs": [],
   "source": [
    "x_train, x_test, y_train, y_test = train_test_split(X,y, test_size=0.2)"
   ]
  },
  {
   "cell_type": "code",
   "execution_count": 13,
   "metadata": {},
   "outputs": [
    {
     "data": {
      "text/plain": [
       "LinearRegression()"
      ]
     },
     "execution_count": 13,
     "metadata": {},
     "output_type": "execute_result"
    }
   ],
   "source": [
    "regressor = linear_model.LinearRegression()\n",
    "regressor.fit(x_train, y_train) # Entrainement du model"
   ]
  },
  {
   "cell_type": "code",
   "execution_count": 14,
   "metadata": {},
   "outputs": [
    {
     "data": {
      "text/plain": [
       "0.37939920603870325"
      ]
     },
     "execution_count": 14,
     "metadata": {},
     "output_type": "execute_result"
    }
   ],
   "source": [
    "score = regressor.score(x_train,y_train)\n",
    "score"
   ]
  },
  {
   "cell_type": "code",
   "execution_count": null,
   "metadata": {},
   "outputs": [],
   "source": []
  }
 ],
 "metadata": {
  "kernelspec": {
   "display_name": "Python 3",
   "language": "python",
   "name": "python3"
  },
  "language_info": {
   "codemirror_mode": {
    "name": "ipython",
    "version": 3
   },
   "file_extension": ".py",
   "mimetype": "text/x-python",
   "name": "python",
   "nbconvert_exporter": "python",
   "pygments_lexer": "ipython3",
   "version": "3.8.5"
  }
 },
 "nbformat": 4,
 "nbformat_minor": 1
}