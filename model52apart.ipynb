{
 "cells": [
  {
   "cell_type": "markdown",
   "metadata": {
    "collapsed": true
   },
   "source": [
    "# Prediction Model\n",
    "\n"
   ]
  },
  {
   "cell_type": "code",
   "execution_count": 1,
   "metadata": {},
   "outputs": [],
   "source": [
    "# importing librairies ...\n",
    "import pandas as pd\n",
    "import numpy as np\n",
    "import matplotlib.pyplot as plt\n",
    "from mpl_toolkits.mplot3d import Axes3D\n",
    "import seaborn as sns\n",
    "\n",
    "from sklearn.model_selection import train_test_split\n",
    "from sklearn import datasets, linear_model\n",
    "from sklearn.metrics import r2_score\n",
    "\n",
    "# %matplotlib notebook"
   ]
  },
  {
   "cell_type": "code",
   "execution_count": 2,
   "metadata": {
    "pycharm": {
     "name": "#%%\n"
    }
   },
   "outputs": [],
   "source": [
    "# The first step is to retrieve cleaned data \n",
    "df = pd.read_csv('./dataset/immoCollect52-clean.csv', index_col = 0)"
   ]
  },
  {
   "cell_type": "markdown",
   "metadata": {},
   "source": [
    "## Cleaning / manipulation \n",
    "\n",
    "First, I'm going to do a little data cleansing to make sure that it corresponds precisely to my expectations for this project."
   ]
  },
  {
   "cell_type": "code",
   "execution_count": 3,
   "metadata": {
    "pycharm": {
     "name": "#%%\n"
    }
   },
   "outputs": [
    {
     "name": "stdout",
     "output_type": "stream",
     "text": [
      "(40791, 17)\n"
     ]
    },
    {
     "data": {
      "text/html": [
       "<div>\n",
       "<style scoped>\n",
       "    .dataframe tbody tr th:only-of-type {\n",
       "        vertical-align: middle;\n",
       "    }\n",
       "\n",
       "    .dataframe tbody tr th {\n",
       "        vertical-align: top;\n",
       "    }\n",
       "\n",
       "    .dataframe thead th {\n",
       "        text-align: right;\n",
       "    }\n",
       "</style>\n",
       "<table border=\"1\" class=\"dataframe\">\n",
       "  <thead>\n",
       "    <tr style=\"text-align: right;\">\n",
       "      <th></th>\n",
       "      <th>postal_code</th>\n",
       "      <th>type_of_property</th>\n",
       "      <th>price</th>\n",
       "      <th>number_of_bedroom</th>\n",
       "      <th>house_area</th>\n",
       "      <th>fully_equipped_kitchen</th>\n",
       "      <th>terrace</th>\n",
       "      <th>garden</th>\n",
       "      <th>is_new</th>\n",
       "      <th>locality</th>\n",
       "      <th>district</th>\n",
       "      <th>province</th>\n",
       "      <th>province_int</th>\n",
       "      <th>region</th>\n",
       "      <th>region_int</th>\n",
       "      <th>district_int</th>\n",
       "      <th>ratio_free_build</th>\n",
       "    </tr>\n",
       "  </thead>\n",
       "  <tbody>\n",
       "    <tr>\n",
       "      <th>6</th>\n",
       "      <td>1650</td>\n",
       "      <td>0</td>\n",
       "      <td>525000</td>\n",
       "      <td>4</td>\n",
       "      <td>220</td>\n",
       "      <td>1</td>\n",
       "      <td>1</td>\n",
       "      <td>1</td>\n",
       "      <td>0</td>\n",
       "      <td>Beersel</td>\n",
       "      <td>Hal-Vilvorde</td>\n",
       "      <td>brabant-flamand</td>\n",
       "      <td>5.0</td>\n",
       "      <td>flandre</td>\n",
       "      <td>0.0</td>\n",
       "      <td>8.0</td>\n",
       "      <td>-2.851322</td>\n",
       "    </tr>\n",
       "    <tr>\n",
       "      <th>9</th>\n",
       "      <td>1332</td>\n",
       "      <td>0</td>\n",
       "      <td>549000</td>\n",
       "      <td>4</td>\n",
       "      <td>210</td>\n",
       "      <td>1</td>\n",
       "      <td>1</td>\n",
       "      <td>1</td>\n",
       "      <td>1</td>\n",
       "      <td>Rixensart</td>\n",
       "      <td>Nivelles</td>\n",
       "      <td>brabant-wallon</td>\n",
       "      <td>8.0</td>\n",
       "      <td>wallonie</td>\n",
       "      <td>1.0</td>\n",
       "      <td>4.0</td>\n",
       "      <td>-3.410265</td>\n",
       "    </tr>\n",
       "    <tr>\n",
       "      <th>10</th>\n",
       "      <td>8310</td>\n",
       "      <td>0</td>\n",
       "      <td>519000</td>\n",
       "      <td>3</td>\n",
       "      <td>273</td>\n",
       "      <td>1</td>\n",
       "      <td>0</td>\n",
       "      <td>1</td>\n",
       "      <td>1</td>\n",
       "      <td>Brugge</td>\n",
       "      <td>Brugge</td>\n",
       "      <td>flandre-occidentale</td>\n",
       "      <td>0.0</td>\n",
       "      <td>flandre</td>\n",
       "      <td>0.0</td>\n",
       "      <td>28.0</td>\n",
       "      <td>-2.429051</td>\n",
       "    </tr>\n",
       "    <tr>\n",
       "      <th>12</th>\n",
       "      <td>8200</td>\n",
       "      <td>0</td>\n",
       "      <td>535000</td>\n",
       "      <td>4</td>\n",
       "      <td>200</td>\n",
       "      <td>1</td>\n",
       "      <td>1</td>\n",
       "      <td>1</td>\n",
       "      <td>1</td>\n",
       "      <td>Brugge</td>\n",
       "      <td>Brugge</td>\n",
       "      <td>flandre-occidentale</td>\n",
       "      <td>0.0</td>\n",
       "      <td>flandre</td>\n",
       "      <td>0.0</td>\n",
       "      <td>28.0</td>\n",
       "      <td>-2.429051</td>\n",
       "    </tr>\n",
       "    <tr>\n",
       "      <th>13</th>\n",
       "      <td>1421</td>\n",
       "      <td>0</td>\n",
       "      <td>105000</td>\n",
       "      <td>1</td>\n",
       "      <td>82</td>\n",
       "      <td>0</td>\n",
       "      <td>0</td>\n",
       "      <td>1</td>\n",
       "      <td>0</td>\n",
       "      <td>Braine-l'Alleud</td>\n",
       "      <td>Nivelles</td>\n",
       "      <td>brabant-wallon</td>\n",
       "      <td>8.0</td>\n",
       "      <td>wallonie</td>\n",
       "      <td>1.0</td>\n",
       "      <td>4.0</td>\n",
       "      <td>-2.645463</td>\n",
       "    </tr>\n",
       "  </tbody>\n",
       "</table>\n",
       "</div>"
      ],
      "text/plain": [
       "    postal_code  type_of_property   price  number_of_bedroom  house_area  \\\n",
       "6          1650                 0  525000                  4         220   \n",
       "9          1332                 0  549000                  4         210   \n",
       "10         8310                 0  519000                  3         273   \n",
       "12         8200                 0  535000                  4         200   \n",
       "13         1421                 0  105000                  1          82   \n",
       "\n",
       "    fully_equipped_kitchen  terrace  garden  is_new         locality  \\\n",
       "6                        1        1       1       0          Beersel   \n",
       "9                        1        1       1       1        Rixensart   \n",
       "10                       1        0       1       1           Brugge   \n",
       "12                       1        1       1       1           Brugge   \n",
       "13                       0        0       1       0  Braine-l'Alleud   \n",
       "\n",
       "        district             province  province_int    region  region_int  \\\n",
       "6   Hal-Vilvorde      brabant-flamand           5.0   flandre         0.0   \n",
       "9       Nivelles       brabant-wallon           8.0  wallonie         1.0   \n",
       "10        Brugge  flandre-occidentale           0.0   flandre         0.0   \n",
       "12        Brugge  flandre-occidentale           0.0   flandre         0.0   \n",
       "13      Nivelles       brabant-wallon           8.0  wallonie         1.0   \n",
       "\n",
       "    district_int  ratio_free_build  \n",
       "6            8.0         -2.851322  \n",
       "9            4.0         -3.410265  \n",
       "10          28.0         -2.429051  \n",
       "12          28.0         -2.429051  \n",
       "13           4.0         -2.645463  "
      ]
     },
     "execution_count": 3,
     "metadata": {},
     "output_type": "execute_result"
    }
   ],
   "source": [
    "print(df.shape)\n",
    "df.head()"
   ]
  },
  {
   "cell_type": "code",
   "execution_count": 4,
   "metadata": {},
   "outputs": [],
   "source": [
    "# I retrieve only utils columns for my model\n",
    "df = df.iloc[:,0:9]\n",
    "df.drop(columns=['fully_equipped_kitchen'],inplace=True)"
   ]
  },
  {
   "cell_type": "code",
   "execution_count": 5,
   "metadata": {},
   "outputs": [],
   "source": [
    "df_house = df[df['type_of_property'] == 0]\n",
    "df_apartment = df[df['type_of_property'] == 1]"
   ]
  },
  {
   "cell_type": "code",
   "execution_count": 6,
   "metadata": {},
   "outputs": [
    {
     "data": {
      "text/html": [
       "<div>\n",
       "<style scoped>\n",
       "    .dataframe tbody tr th:only-of-type {\n",
       "        vertical-align: middle;\n",
       "    }\n",
       "\n",
       "    .dataframe tbody tr th {\n",
       "        vertical-align: top;\n",
       "    }\n",
       "\n",
       "    .dataframe thead th {\n",
       "        text-align: right;\n",
       "    }\n",
       "</style>\n",
       "<table border=\"1\" class=\"dataframe\">\n",
       "  <thead>\n",
       "    <tr style=\"text-align: right;\">\n",
       "      <th></th>\n",
       "      <th>postal_code</th>\n",
       "      <th>type_of_property</th>\n",
       "      <th>price</th>\n",
       "      <th>number_of_bedroom</th>\n",
       "      <th>house_area</th>\n",
       "      <th>terrace</th>\n",
       "      <th>garden</th>\n",
       "      <th>is_new</th>\n",
       "    </tr>\n",
       "  </thead>\n",
       "  <tbody>\n",
       "    <tr>\n",
       "      <th>5519</th>\n",
       "      <td>4000</td>\n",
       "      <td>1</td>\n",
       "      <td>45000</td>\n",
       "      <td>1</td>\n",
       "      <td>47</td>\n",
       "      <td>1</td>\n",
       "      <td>0</td>\n",
       "      <td>0</td>\n",
       "    </tr>\n",
       "    <tr>\n",
       "      <th>5520</th>\n",
       "      <td>4020</td>\n",
       "      <td>1</td>\n",
       "      <td>25000</td>\n",
       "      <td>1</td>\n",
       "      <td>125</td>\n",
       "      <td>1</td>\n",
       "      <td>0</td>\n",
       "      <td>1</td>\n",
       "    </tr>\n",
       "    <tr>\n",
       "      <th>5521</th>\n",
       "      <td>4020</td>\n",
       "      <td>1</td>\n",
       "      <td>25000</td>\n",
       "      <td>3</td>\n",
       "      <td>142</td>\n",
       "      <td>1</td>\n",
       "      <td>0</td>\n",
       "      <td>1</td>\n",
       "    </tr>\n",
       "    <tr>\n",
       "      <th>5523</th>\n",
       "      <td>6180</td>\n",
       "      <td>1</td>\n",
       "      <td>20000</td>\n",
       "      <td>1</td>\n",
       "      <td>115</td>\n",
       "      <td>0</td>\n",
       "      <td>1</td>\n",
       "      <td>0</td>\n",
       "    </tr>\n",
       "    <tr>\n",
       "      <th>5524</th>\n",
       "      <td>1030</td>\n",
       "      <td>1</td>\n",
       "      <td>50000</td>\n",
       "      <td>2</td>\n",
       "      <td>96</td>\n",
       "      <td>0</td>\n",
       "      <td>0</td>\n",
       "      <td>0</td>\n",
       "    </tr>\n",
       "  </tbody>\n",
       "</table>\n",
       "</div>"
      ],
      "text/plain": [
       "      postal_code  type_of_property  price  number_of_bedroom  house_area  \\\n",
       "5519         4000                 1  45000                  1          47   \n",
       "5520         4020                 1  25000                  1         125   \n",
       "5521         4020                 1  25000                  3         142   \n",
       "5523         6180                 1  20000                  1         115   \n",
       "5524         1030                 1  50000                  2          96   \n",
       "\n",
       "      terrace  garden  is_new  \n",
       "5519        1       0       0  \n",
       "5520        1       0       1  \n",
       "5521        1       0       1  \n",
       "5523        0       1       0  \n",
       "5524        0       0       0  "
      ]
     },
     "execution_count": 6,
     "metadata": {},
     "output_type": "execute_result"
    }
   ],
   "source": [
    "df_apartment.head()"
   ]
  },
  {
   "cell_type": "code",
   "execution_count": 7,
   "metadata": {},
   "outputs": [
    {
     "name": "stdout",
     "output_type": "stream",
     "text": [
      "<class 'pandas.core.frame.DataFrame'>\n",
      "Int64Index: 18494 entries, 6 to 59161\n",
      "Data columns (total 8 columns):\n",
      " #   Column             Non-Null Count  Dtype\n",
      "---  ------             --------------  -----\n",
      " 0   postal_code        18494 non-null  int64\n",
      " 1   type_of_property   18494 non-null  int64\n",
      " 2   price              18494 non-null  int64\n",
      " 3   number_of_bedroom  18494 non-null  int64\n",
      " 4   house_area         18494 non-null  int64\n",
      " 5   terrace            18494 non-null  int64\n",
      " 6   garden             18494 non-null  int64\n",
      " 7   is_new             18494 non-null  int64\n",
      "dtypes: int64(8)\n",
      "memory usage: 1.3 MB\n"
     ]
    }
   ],
   "source": [
    "df_house.info()"
   ]
  },
  {
   "cell_type": "markdown",
   "metadata": {},
   "source": [
    "## Let's train and predict for HOUSE !"
   ]
  },
  {
   "cell_type": "code",
   "execution_count": 8,
   "metadata": {},
   "outputs": [
    {
     "data": {
      "image/png": "[encoded data removed]",
      "text/plain": [
       "<Figure size 1152x576 with 2 Axes>"
      ]
     },
     "metadata": {
      "needs_background": "light"
     },
     "output_type": "display_data"
    }
   ],
   "source": [
    "# Print the heatmap\n",
    "plt.subplots(figsize=(16, 8))   \n",
    "sns.heatmap(df_apartment.corr(), annot=True, linewidths=0.05, fmt= '.2f', vmin=-1, vmax=1, center=0, cmap=sns.diverging_palette(20, 220, n=200))\n",
    "\n",
    "plt.show()"
   ]
  },
  {
   "cell_type": "code",
   "execution_count": 9,
   "metadata": {},
   "outputs": [
    {
     "data": {
      "text/html": [
       "<div>\n",
       "<style scoped>\n",
       "    .dataframe tbody tr th:only-of-type {\n",
       "        vertical-align: middle;\n",
       "    }\n",
       "\n",
       "    .dataframe tbody tr th {\n",
       "        vertical-align: top;\n",
       "    }\n",
       "\n",
       "    .dataframe thead th {\n",
       "        text-align: right;\n",
       "    }\n",
       "</style>\n",
       "<table border=\"1\" class=\"dataframe\">\n",
       "  <thead>\n",
       "    <tr style=\"text-align: right;\">\n",
       "      <th></th>\n",
       "      <th>postal_code</th>\n",
       "      <th>number_of_bedroom</th>\n",
       "      <th>house_area</th>\n",
       "      <th>terrace</th>\n",
       "      <th>is_new</th>\n",
       "    </tr>\n",
       "  </thead>\n",
       "  <tbody>\n",
       "    <tr>\n",
       "      <th>5519</th>\n",
       "      <td>4000</td>\n",
       "      <td>1</td>\n",
       "      <td>47</td>\n",
       "      <td>1</td>\n",
       "      <td>0</td>\n",
       "    </tr>\n",
       "    <tr>\n",
       "      <th>5520</th>\n",
       "      <td>4020</td>\n",
       "      <td>1</td>\n",
       "      <td>125</td>\n",
       "      <td>1</td>\n",
       "      <td>1</td>\n",
       "    </tr>\n",
       "    <tr>\n",
       "      <th>5521</th>\n",
       "      <td>4020</td>\n",
       "      <td>3</td>\n",
       "      <td>142</td>\n",
       "      <td>1</td>\n",
       "      <td>1</td>\n",
       "    </tr>\n",
       "    <tr>\n",
       "      <th>5523</th>\n",
       "      <td>6180</td>\n",
       "      <td>1</td>\n",
       "      <td>115</td>\n",
       "      <td>0</td>\n",
       "      <td>0</td>\n",
       "    </tr>\n",
       "    <tr>\n",
       "      <th>5524</th>\n",
       "      <td>1030</td>\n",
       "      <td>2</td>\n",
       "      <td>96</td>\n",
       "      <td>0</td>\n",
       "      <td>0</td>\n",
       "    </tr>\n",
       "  </tbody>\n",
       "</table>\n",
       "</div>"
      ],
      "text/plain": [
       "      postal_code  number_of_bedroom  house_area  terrace  is_new\n",
       "5519         4000                  1          47        1       0\n",
       "5520         4020                  1         125        1       1\n",
       "5521         4020                  3         142        1       1\n",
       "5523         6180                  1         115        0       0\n",
       "5524         1030                  2          96        0       0"
      ]
     },
     "execution_count": 9,
     "metadata": {},
     "output_type": "execute_result"
    }
   ],
   "source": [
    "X = df_apartment.drop(columns=['price', 'type_of_property', 'garden'])\n",
    "X.head()"
   ]
  },
  {
   "cell_type": "code",
   "execution_count": 10,
   "metadata": {},
   "outputs": [
    {
     "data": {
      "text/html": [
       "<div>\n",
       "<style scoped>\n",
       "    .dataframe tbody tr th:only-of-type {\n",
       "        vertical-align: middle;\n",
       "    }\n",
       "\n",
       "    .dataframe tbody tr th {\n",
       "        vertical-align: top;\n",
       "    }\n",
       "\n",
       "    .dataframe thead th {\n",
       "        text-align: right;\n",
       "    }\n",
       "</style>\n",
       "<table border=\"1\" class=\"dataframe\">\n",
       "  <thead>\n",
       "    <tr style=\"text-align: right;\">\n",
       "      <th></th>\n",
       "      <th>price</th>\n",
       "    </tr>\n",
       "  </thead>\n",
       "  <tbody>\n",
       "    <tr>\n",
       "      <th>5519</th>\n",
       "      <td>45000</td>\n",
       "    </tr>\n",
       "    <tr>\n",
       "      <th>5520</th>\n",
       "      <td>25000</td>\n",
       "    </tr>\n",
       "    <tr>\n",
       "      <th>5521</th>\n",
       "      <td>25000</td>\n",
       "    </tr>\n",
       "    <tr>\n",
       "      <th>5523</th>\n",
       "      <td>20000</td>\n",
       "    </tr>\n",
       "    <tr>\n",
       "      <th>5524</th>\n",
       "      <td>50000</td>\n",
       "    </tr>\n",
       "  </tbody>\n",
       "</table>\n",
       "</div>"
      ],
      "text/plain": [
       "      price\n",
       "5519  45000\n",
       "5520  25000\n",
       "5521  25000\n",
       "5523  20000\n",
       "5524  50000"
      ]
     },
     "execution_count": 10,
     "metadata": {},
     "output_type": "execute_result"
    }
   ],
   "source": [
    "y = df_apartment[['price']]\n",
    "y.head()"
   ]
  },
  {
   "cell_type": "code",
   "execution_count": 11,
   "metadata": {},
   "outputs": [
    {
     "data": {
      "image/png": "[encoded data removed]",
      "text/plain": [
       "<Figure size 432x288 with 1 Axes>"
      ]
     },
     "metadata": {
      "needs_background": "light"
     },
     "output_type": "display_data"
    }
   ],
   "source": [
    "# %matplotlib notebook\n",
    "fig = plt.figure()\n",
    "\n",
    "ax = fig.add_subplot(111, projection='3d')\n",
    "ax.scatter3D( X['number_of_bedroom'],X['house_area'], y, c=y, cmap='gist_heat')\n",
    "ax.view_init(27, -64)"
   ]
  },
  {
   "cell_type": "markdown",
   "metadata": {},
   "source": [
    "### Split the dataset"
   ]
  },
  {
   "cell_type": "code",
   "execution_count": 12,
   "metadata": {},
   "outputs": [],
   "source": [
    "X_train, X_test, y_train, y_test = train_test_split(X,y, test_size=0.1, random_state=42)"
   ]
  },
  {
   "cell_type": "code",
   "execution_count": 13,
   "metadata": {},
   "outputs": [
    {
     "data": {
      "text/html": [
       "<div>\n",
       "<style scoped>\n",
       "    .dataframe tbody tr th:only-of-type {\n",
       "        vertical-align: middle;\n",
       "    }\n",
       "\n",
       "    .dataframe tbody tr th {\n",
       "        vertical-align: top;\n",
       "    }\n",
       "\n",
       "    .dataframe thead th {\n",
       "        text-align: right;\n",
       "    }\n",
       "</style>\n",
       "<table border=\"1\" class=\"dataframe\">\n",
       "  <thead>\n",
       "    <tr style=\"text-align: right;\">\n",
       "      <th></th>\n",
       "      <th>postal_code</th>\n",
       "      <th>number_of_bedroom</th>\n",
       "      <th>house_area</th>\n",
       "      <th>terrace</th>\n",
       "      <th>is_new</th>\n",
       "    </tr>\n",
       "  </thead>\n",
       "  <tbody>\n",
       "    <tr>\n",
       "      <th>12947</th>\n",
       "      <td>1480</td>\n",
       "      <td>2</td>\n",
       "      <td>105</td>\n",
       "      <td>0</td>\n",
       "      <td>0</td>\n",
       "    </tr>\n",
       "    <tr>\n",
       "      <th>13821</th>\n",
       "      <td>1970</td>\n",
       "      <td>1</td>\n",
       "      <td>60</td>\n",
       "      <td>1</td>\n",
       "      <td>1</td>\n",
       "    </tr>\n",
       "    <tr>\n",
       "      <th>10982</th>\n",
       "      <td>8370</td>\n",
       "      <td>2</td>\n",
       "      <td>64</td>\n",
       "      <td>0</td>\n",
       "      <td>0</td>\n",
       "    </tr>\n",
       "    <tr>\n",
       "      <th>11866</th>\n",
       "      <td>3800</td>\n",
       "      <td>1</td>\n",
       "      <td>81</td>\n",
       "      <td>0</td>\n",
       "      <td>1</td>\n",
       "    </tr>\n",
       "    <tr>\n",
       "      <th>5884</th>\n",
       "      <td>8434</td>\n",
       "      <td>1</td>\n",
       "      <td>38</td>\n",
       "      <td>1</td>\n",
       "      <td>0</td>\n",
       "    </tr>\n",
       "    <tr>\n",
       "      <th>...</th>\n",
       "      <td>...</td>\n",
       "      <td>...</td>\n",
       "      <td>...</td>\n",
       "      <td>...</td>\n",
       "      <td>...</td>\n",
       "    </tr>\n",
       "    <tr>\n",
       "      <th>19683</th>\n",
       "      <td>1210</td>\n",
       "      <td>2</td>\n",
       "      <td>91</td>\n",
       "      <td>1</td>\n",
       "      <td>1</td>\n",
       "    </tr>\n",
       "    <tr>\n",
       "      <th>30138</th>\n",
       "      <td>8300</td>\n",
       "      <td>4</td>\n",
       "      <td>138</td>\n",
       "      <td>1</td>\n",
       "      <td>1</td>\n",
       "    </tr>\n",
       "    <tr>\n",
       "      <th>12238</th>\n",
       "      <td>8500</td>\n",
       "      <td>2</td>\n",
       "      <td>71</td>\n",
       "      <td>0</td>\n",
       "      <td>0</td>\n",
       "    </tr>\n",
       "    <tr>\n",
       "      <th>6840</th>\n",
       "      <td>8530</td>\n",
       "      <td>1</td>\n",
       "      <td>46</td>\n",
       "      <td>0</td>\n",
       "      <td>0</td>\n",
       "    </tr>\n",
       "    <tr>\n",
       "      <th>23875</th>\n",
       "      <td>1000</td>\n",
       "      <td>3</td>\n",
       "      <td>126</td>\n",
       "      <td>1</td>\n",
       "      <td>0</td>\n",
       "    </tr>\n",
       "  </tbody>\n",
       "</table>\n",
       "<p>20067 rows × 5 columns</p>\n",
       "</div>"
      ],
      "text/plain": [
       "       postal_code  number_of_bedroom  house_area  terrace  is_new\n",
       "12947         1480                  2         105        0       0\n",
       "13821         1970                  1          60        1       1\n",
       "10982         8370                  2          64        0       0\n",
       "11866         3800                  1          81        0       1\n",
       "5884          8434                  1          38        1       0\n",
       "...            ...                ...         ...      ...     ...\n",
       "19683         1210                  2          91        1       1\n",
       "30138         8300                  4         138        1       1\n",
       "12238         8500                  2          71        0       0\n",
       "6840          8530                  1          46        0       0\n",
       "23875         1000                  3         126        1       0\n",
       "\n",
       "[20067 rows x 5 columns]"
      ]
     },
     "execution_count": 13,
     "metadata": {},
     "output_type": "execute_result"
    }
   ],
   "source": [
    "X_train"
   ]
  },
  {
   "cell_type": "markdown",
   "metadata": {},
   "source": [
    "### Scaler"
   ]
  },
  {
   "cell_type": "code",
   "execution_count": 14,
   "metadata": {},
   "outputs": [],
   "source": [
    "from sklearn.preprocessing import StandardScaler\n",
    "from sklearn.preprocessing import MinMaxScaler\n",
    "from sklearn.preprocessing import RobustScaler\n",
    "\n",
    "# Init a standard scaler\n",
    "ss = MinMaxScaler()\n",
    "\n",
    "# Scale the features\n",
    "X_train = ss.fit_transform(X_train)\n",
    "X_test = ss.transform(X_test)"
   ]
  },
  {
   "cell_type": "markdown",
   "metadata": {},
   "source": [
    "### 1. Multiple Linear regression"
   ]
  },
  {
   "cell_type": "code",
   "execution_count": 15,
   "metadata": {},
   "outputs": [
    {
     "data": {
      "text/plain": [
       "LinearRegression()"
      ]
     },
     "execution_count": 15,
     "metadata": {},
     "output_type": "execute_result"
    }
   ],
   "source": [
    "regressor = linear_model.LinearRegression()\n",
    "regressor.fit(X_train, y_train) # Entrainement du model"
   ]
  },
  {
   "cell_type": "code",
   "execution_count": 16,
   "metadata": {},
   "outputs": [
    {
     "data": {
      "text/plain": [
       "0.3736021772189966"
      ]
     },
     "execution_count": 16,
     "metadata": {},
     "output_type": "execute_result"
    }
   ],
   "source": [
    "score = regressor.score(X_train,y_train)\n",
    "score"
   ]
  },
  {
   "cell_type": "code",
   "execution_count": 17,
   "metadata": {},
   "outputs": [
    {
     "data": {
      "text/plain": [
       "0.35144449487022156"
      ]
     },
     "execution_count": 17,
     "metadata": {},
     "output_type": "execute_result"
    }
   ],
   "source": [
    "score = regressor.score(X_test,y_test)\n",
    "score"
   ]
  },
  {
   "cell_type": "markdown",
   "metadata": {},
   "source": [
    "### 2. With polynomial regression"
   ]
  },
  {
   "cell_type": "code",
   "execution_count": 18,
   "metadata": {},
   "outputs": [],
   "source": [
    "from sklearn.preprocessing import PolynomialFeatures\n",
    "from sklearn.pipeline import make_pipeline\n",
    "from sklearn.linear_model import LinearRegression\n",
    "\n",
    "degree = 5\n",
    "\n",
    "pipe=make_pipeline(PolynomialFeatures(degree),LinearRegression())"
   ]
  },
  {
   "cell_type": "code",
   "execution_count": 19,
   "metadata": {},
   "outputs": [
    {
     "data": {
      "text/plain": [
       "Pipeline(steps=[('polynomialfeatures', PolynomialFeatures(degree=5)),\n",
       "                ('linearregression', LinearRegression())])"
      ]
     },
     "execution_count": 19,
     "metadata": {},
     "output_type": "execute_result"
    }
   ],
   "source": [
    "pipe.fit(X_train, y_train)"
   ]
  },
  {
   "cell_type": "code",
   "execution_count": 20,
   "metadata": {},
   "outputs": [
    {
     "data": {
      "text/plain": [
       "0.5196820797293935"
      ]
     },
     "execution_count": 20,
     "metadata": {},
     "output_type": "execute_result"
    }
   ],
   "source": [
    "pipe.score(X_train, y_train)"
   ]
  },
  {
   "cell_type": "code",
   "execution_count": 21,
   "metadata": {},
   "outputs": [
    {
     "data": {
      "text/plain": [
       "0.4889178122170116"
      ]
     },
     "execution_count": 21,
     "metadata": {},
     "output_type": "execute_result"
    }
   ],
   "source": [
    "pipe.score(X_test, y_test)"
   ]
  },
  {
   "cell_type": "markdown",
   "metadata": {},
   "source": [
    "### 3. KNN Regressor"
   ]
  },
  {
   "cell_type": "code",
   "execution_count": 22,
   "metadata": {},
   "outputs": [
    {
     "data": {
      "text/plain": [
       "KNeighborsRegressor()"
      ]
     },
     "execution_count": 22,
     "metadata": {},
     "output_type": "execute_result"
    }
   ],
   "source": [
    "from sklearn.neighbors import KNeighborsRegressor\n",
    "\n",
    "knn = KNeighborsRegressor(n_neighbors=5)\n",
    "knn.fit(X_train, y_train)"
   ]
  },
  {
   "cell_type": "code",
   "execution_count": 23,
   "metadata": {},
   "outputs": [
    {
     "data": {
      "text/plain": [
       "0.7527494924885041"
      ]
     },
     "execution_count": 23,
     "metadata": {},
     "output_type": "execute_result"
    }
   ],
   "source": [
    "knn.score(X_train, y_train)"
   ]
  },
  {
   "cell_type": "code",
   "execution_count": 24,
   "metadata": {
    "scrolled": false
   },
   "outputs": [
    {
     "data": {
      "text/plain": [
       "0.5871897382124843"
      ]
     },
     "execution_count": 24,
     "metadata": {},
     "output_type": "execute_result"
    }
   ],
   "source": [
    "knn.score(X_test, y_test)"
   ]
  },
  {
   "cell_type": "markdown",
   "metadata": {},
   "source": [
    "### 4. Decision Trees"
   ]
  },
  {
   "cell_type": "code",
   "execution_count": 25,
   "metadata": {},
   "outputs": [
    {
     "data": {
      "text/plain": [
       "DecisionTreeRegressor(max_depth=9, min_samples_split=20, random_state=42)"
      ]
     },
     "execution_count": 25,
     "metadata": {},
     "output_type": "execute_result"
    }
   ],
   "source": [
    "from sklearn.tree import DecisionTreeRegressor\n",
    "from sklearn.model_selection import cross_val_score\n",
    "\n",
    "regressor = DecisionTreeRegressor(random_state=42, max_depth=9, min_samples_split=20)\n",
    "regressor.fit(X_train, y_train)"
   ]
  },
  {
   "cell_type": "code",
   "execution_count": 26,
   "metadata": {},
   "outputs": [
    {
     "data": {
      "text/plain": [
       "0.6998425795823167"
      ]
     },
     "execution_count": 26,
     "metadata": {},
     "output_type": "execute_result"
    }
   ],
   "source": [
    "regressor.score(X_train, y_train)"
   ]
  },
  {
   "cell_type": "code",
   "execution_count": 27,
   "metadata": {},
   "outputs": [
    {
     "data": {
      "text/plain": [
       "0.6308500322877406"
      ]
     },
     "execution_count": 27,
     "metadata": {},
     "output_type": "execute_result"
    }
   ],
   "source": [
    "regressor.score(X_test, y_test)"
   ]
  },
  {
   "cell_type": "markdown",
   "metadata": {},
   "source": [
    "### 5. Random Forest Regressor"
   ]
  },
  {
   "cell_type": "code",
   "execution_count": 28,
   "metadata": {},
   "outputs": [
    {
     "name": "stderr",
     "output_type": "stream",
     "text": [
      "<ipython-input-28-158bccde1789>:4: DataConversionWarning: A column-vector y was passed when a 1d array was expected. Please change the shape of y to (n_samples,), for example using ravel().\n",
      "  regr.fit(X, y)\n"
     ]
    },
    {
     "data": {
      "text/plain": [
       "RandomForestRegressor(max_depth=2, random_state=0)"
      ]
     },
     "execution_count": 28,
     "metadata": {},
     "output_type": "execute_result"
    }
   ],
   "source": [
    "from sklearn.ensemble import RandomForestRegressor\n",
    "\n",
    "regr = RandomForestRegressor(max_depth=2, random_state=0)\n",
    "regr.fit(X, y)"
   ]
  },
  {
   "cell_type": "code",
   "execution_count": 29,
   "metadata": {},
   "outputs": [
    {
     "data": {
      "text/plain": [
       "-0.4506959658521392"
      ]
     },
     "execution_count": 29,
     "metadata": {},
     "output_type": "execute_result"
    }
   ],
   "source": [
    "regr.score(X_train, y_train)"
   ]
  },
  {
   "cell_type": "code",
   "execution_count": 30,
   "metadata": {},
   "outputs": [
    {
     "data": {
      "text/plain": [
       "-0.4271494655155974"
      ]
     },
     "execution_count": 30,
     "metadata": {},
     "output_type": "execute_result"
    }
   ],
   "source": [
    "regr.score(X_test, y_test)"
   ]
  },
  {
   "cell_type": "markdown",
   "metadata": {},
   "source": [
    "### 6.Gradient boost"
   ]
  },
  {
   "cell_type": "code",
   "execution_count": 31,
   "metadata": {},
   "outputs": [
    {
     "name": "stderr",
     "output_type": "stream",
     "text": [
      "/home/leersla/Desktop/Turing4/ImmoEliza-API/venv/lib/python3.8/site-packages/sklearn/utils/validation.py:72: DataConversionWarning: A column-vector y was passed when a 1d array was expected. Please change the shape of y to (n_samples, ), for example using ravel().\n",
      "  return f(**kwargs)\n"
     ]
    },
    {
     "data": {
      "text/plain": [
       "GradientBoostingRegressor(n_estimators=1000, random_state=42)"
      ]
     },
     "execution_count": 31,
     "metadata": {},
     "output_type": "execute_result"
    }
   ],
   "source": [
    "from sklearn.ensemble import GradientBoostingRegressor\n",
    "\n",
    "reg = GradientBoostingRegressor(random_state=42, n_estimators=1000)\n",
    "reg.fit(X_train, y_train)"
   ]
  },
  {
   "cell_type": "code",
   "execution_count": 32,
   "metadata": {},
   "outputs": [
    {
     "data": {
      "text/plain": [
       "0.7635053246045332"
      ]
     },
     "execution_count": 32,
     "metadata": {},
     "output_type": "execute_result"
    }
   ],
   "source": [
    "reg.score(X_train, y_train)"
   ]
  },
  {
   "cell_type": "code",
   "execution_count": 33,
   "metadata": {
    "scrolled": true
   },
   "outputs": [
    {
     "data": {
      "text/plain": [
       "0.7225570877452995"
      ]
     },
     "execution_count": 33,
     "metadata": {},
     "output_type": "execute_result"
    }
   ],
   "source": [
    "reg.score(X_test, y_test)"
   ]
  },
  {
   "cell_type": "markdown",
   "metadata": {},
   "source": [
    "### 7. XGB"
   ]
  },
  {
   "cell_type": "code",
   "execution_count": 34,
   "metadata": {},
   "outputs": [
    {
     "data": {
      "text/plain": [
       "XGBRegressor(base_score=0.5, booster='gbtree', colsample_bylevel=1,\n",
       "             colsample_bynode=1, colsample_bytree=1, gamma=0, gpu_id=-1,\n",
       "             importance_type='gain', interaction_constraints='',\n",
       "             learning_rate=0.04, max_delta_step=0, max_depth=6,\n",
       "             min_child_weight=1, missing=nan, monotone_constraints='()',\n",
       "             n_estimators=800, n_jobs=0, num_parallel_tree=1, random_state=42,\n",
       "             reg_alpha=0, reg_lambda=1, scale_pos_weight=1, subsample=1,\n",
       "             tree_method='exact', validate_parameters=1, verbosity=None)"
      ]
     },
     "execution_count": 34,
     "metadata": {},
     "output_type": "execute_result"
    }
   ],
   "source": [
    "import xgboost as xgb\n",
    "\n",
    "xgb_model = xgb.XGBRegressor(objective=\"reg:squarederror\", random_state=42, n_estimators=800, learning_rate=0.04)\n",
    "xgb_model.fit(X_train, y_train)"
   ]
  },
  {
   "cell_type": "code",
   "execution_count": 35,
   "metadata": {},
   "outputs": [
    {
     "data": {
      "text/plain": [
       "0.8196178155650661"
      ]
     },
     "execution_count": 35,
     "metadata": {},
     "output_type": "execute_result"
    }
   ],
   "source": [
    "xgb_model.score(X_train, y_train)"
   ]
  },
  {
   "cell_type": "code",
   "execution_count": 36,
   "metadata": {},
   "outputs": [
    {
     "data": {
      "text/plain": [
       "0.7432276183648872"
      ]
     },
     "execution_count": 36,
     "metadata": {},
     "output_type": "execute_result"
    }
   ],
   "source": [
    "xgb_model.score(X_test, y_test)"
   ]
  },
  {
   "cell_type": "code",
   "execution_count": 37,
   "metadata": {},
   "outputs": [
    {
     "data": {
      "text/plain": [
       "0.7432276183648872"
      ]
     },
     "execution_count": 37,
     "metadata": {},
     "output_type": "execute_result"
    }
   ],
   "source": [
    "y_pred = xgb_model.predict(X_test)\n",
    "r2_score(y_test, y_pred)\n"
   ]
  },
  {
   "cell_type": "markdown",
   "metadata": {
    "pycharm": {
     "name": "#%% md\n"
    }
   },
   "source": [
    "### CatBoostRegressor"
   ]
  },
  {
   "cell_type": "code",
   "execution_count": 38,
   "metadata": {
    "pycharm": {
     "name": "#%%\n"
    }
   },
   "outputs": [
    {
     "name": "stdout",
     "output_type": "stream",
     "text": [
      "0:\tlearn: 112648.9024746\ttest: 112839.8760968\tbest: 112839.8760968 (0)\ttotal: 61.8ms\tremaining: 10m 17s\n",
      "100:\tlearn: 81487.7540529\ttest: 83386.2668482\tbest: 83386.2668482 (100)\ttotal: 1.27s\tremaining: 2m 4s\n",
      "200:\tlearn: 72066.7221218\ttest: 74452.1326624\tbest: 74452.1326624 (200)\ttotal: 2.21s\tremaining: 1m 47s\n",
      "300:\tlearn: 68266.9096041\ttest: 70777.4304204\tbest: 70777.4304204 (300)\ttotal: 3.03s\tremaining: 1m 37s\n",
      "400:\tlearn: 66185.0629981\ttest: 68730.9795815\tbest: 68730.9795815 (400)\ttotal: 4.25s\tremaining: 1m 41s\n",
      "500:\tlearn: 64854.9902216\ttest: 67434.7920521\tbest: 67434.7920521 (500)\ttotal: 5.28s\tremaining: 1m 40s\n",
      "600:\tlearn: 63895.8711444\ttest: 66562.1228234\tbest: 66562.1228234 (600)\ttotal: 6.17s\tremaining: 1m 36s\n",
      "700:\tlearn: 63157.9612983\ttest: 65886.3529909\tbest: 65886.3529909 (700)\ttotal: 7.19s\tremaining: 1m 35s\n",
      "800:\tlearn: 62525.7587971\ttest: 65338.6022207\tbest: 65338.4784154 (799)\ttotal: 8.39s\tremaining: 1m 36s\n",
      "900:\tlearn: 61936.2163936\ttest: 64824.6127253\tbest: 64824.6127253 (900)\ttotal: 9.3s\tremaining: 1m 33s\n",
      "1000:\tlearn: 61420.7971449\ttest: 64378.3049629\tbest: 64378.3049629 (1000)\ttotal: 10.8s\tremaining: 1m 37s\n",
      "1100:\tlearn: 60884.4647570\ttest: 63925.9671096\tbest: 63925.9671096 (1100)\ttotal: 11.7s\tremaining: 1m 34s\n",
      "1200:\tlearn: 60384.0630164\ttest: 63469.9165804\tbest: 63469.9165804 (1200)\ttotal: 12.5s\tremaining: 1m 31s\n",
      "1300:\tlearn: 59902.5928060\ttest: 63031.2089497\tbest: 63031.2089497 (1300)\ttotal: 13.3s\tremaining: 1m 29s\n",
      "1400:\tlearn: 59440.1679413\ttest: 62647.2293694\tbest: 62647.2293694 (1400)\ttotal: 14.1s\tremaining: 1m 26s\n",
      "1500:\tlearn: 59023.8967154\ttest: 62307.8529293\tbest: 62307.8529293 (1500)\ttotal: 15s\tremaining: 1m 25s\n",
      "1600:\tlearn: 58640.8007603\ttest: 62035.5889446\tbest: 62035.5889446 (1600)\ttotal: 15.9s\tremaining: 1m 23s\n",
      "1700:\tlearn: 58304.6576291\ttest: 61819.2416146\tbest: 61819.2416146 (1700)\ttotal: 16.7s\tremaining: 1m 21s\n",
      "1800:\tlearn: 57970.8128120\ttest: 61577.3532368\tbest: 61577.3532368 (1800)\ttotal: 17.6s\tremaining: 1m 20s\n",
      "1900:\tlearn: 57664.9955170\ttest: 61376.2841994\tbest: 61375.9348516 (1899)\ttotal: 18.9s\tremaining: 1m 20s\n",
      "2000:\tlearn: 57341.4971892\ttest: 61172.8499139\tbest: 61172.8499139 (2000)\ttotal: 20.5s\tremaining: 1m 21s\n",
      "2100:\tlearn: 57047.4086644\ttest: 60974.6922867\tbest: 60974.6922867 (2100)\ttotal: 21.3s\tremaining: 1m 20s\n",
      "2200:\tlearn: 56769.7101134\ttest: 60828.1564473\tbest: 60828.1564473 (2200)\ttotal: 22.3s\tremaining: 1m 19s\n",
      "2300:\tlearn: 56507.2262352\ttest: 60679.9026962\tbest: 60679.9026962 (2300)\ttotal: 23.1s\tremaining: 1m 17s\n",
      "2400:\tlearn: 56257.6642611\ttest: 60551.9369129\tbest: 60551.6553090 (2398)\ttotal: 24s\tremaining: 1m 15s\n",
      "2500:\tlearn: 56000.1515390\ttest: 60423.8895359\tbest: 60423.8895359 (2500)\ttotal: 24.9s\tremaining: 1m 14s\n",
      "2600:\tlearn: 55768.1154159\ttest: 60305.4919020\tbest: 60305.4919020 (2600)\ttotal: 25.7s\tremaining: 1m 13s\n",
      "2700:\tlearn: 55551.8013579\ttest: 60188.8380134\tbest: 60188.8380134 (2700)\ttotal: 26.7s\tremaining: 1m 12s\n",
      "2800:\tlearn: 55336.7091026\ttest: 60092.0076446\tbest: 60092.0076446 (2800)\ttotal: 27.7s\tremaining: 1m 11s\n",
      "2900:\tlearn: 55122.3249781\ttest: 59996.9117599\tbest: 59996.9117599 (2900)\ttotal: 28.7s\tremaining: 1m 10s\n",
      "3000:\tlearn: 54915.6250219\ttest: 59885.0537422\tbest: 59885.0537422 (3000)\ttotal: 29.5s\tremaining: 1m 8s\n",
      "3100:\tlearn: 54717.1525829\ttest: 59796.4789233\tbest: 59796.4789233 (3100)\ttotal: 30.4s\tremaining: 1m 7s\n",
      "3200:\tlearn: 54515.4164690\ttest: 59711.3120932\tbest: 59711.3120932 (3200)\ttotal: 31.4s\tremaining: 1m 6s\n",
      "3300:\tlearn: 54308.9165852\ttest: 59637.0475540\tbest: 59637.0475540 (3300)\ttotal: 32.3s\tremaining: 1m 5s\n",
      "3400:\tlearn: 54111.3024514\ttest: 59563.9310842\tbest: 59563.8146754 (3399)\ttotal: 33.1s\tremaining: 1m 4s\n",
      "3500:\tlearn: 53927.9726107\ttest: 59485.7812831\tbest: 59485.1851480 (3499)\ttotal: 33.9s\tremaining: 1m 3s\n",
      "3600:\tlearn: 53746.7059819\ttest: 59418.4420312\tbest: 59418.4420312 (3600)\ttotal: 34.8s\tremaining: 1m 1s\n",
      "3700:\tlearn: 53574.5183687\ttest: 59361.3516898\tbest: 59361.2087755 (3698)\ttotal: 35.7s\tremaining: 1m\n",
      "3800:\tlearn: 53405.4181453\ttest: 59287.5435748\tbest: 59287.5435748 (3800)\ttotal: 36.5s\tremaining: 59.5s\n",
      "3900:\tlearn: 53237.5770880\ttest: 59224.8451879\tbest: 59224.8451879 (3900)\ttotal: 37.5s\tremaining: 58.6s\n",
      "4000:\tlearn: 53075.7857890\ttest: 59164.6521279\tbest: 59162.8543196 (3999)\ttotal: 38.4s\tremaining: 57.5s\n",
      "4100:\tlearn: 52920.6708008\ttest: 59104.1848038\tbest: 59102.3130451 (4096)\ttotal: 39.2s\tremaining: 56.5s\n",
      "4200:\tlearn: 52758.2927194\ttest: 59055.4385580\tbest: 59054.9574860 (4198)\ttotal: 40.1s\tremaining: 55.4s\n",
      "Stopped by overfitting detector  (10 iterations wait)\n",
      "\n",
      "bestTest = 59054.95749\n",
      "bestIteration = 4198\n",
      "\n",
      "Shrink model to first 4199 iterations.\n",
      "{'iterations': 10000, 'learning_rate': 0.01, 'depth': 9, 'loss_function': 'RMSE', 'od_type': 'Iter', 'random_seed': 42}\n"
     ]
    }
   ],
   "source": [
    "from catboost import CatBoostRegressor\n",
    "\n",
    "cbr_model = CatBoostRegressor(learning_rate=0.01, depth=9, iterations=10000, random_seed=42, loss_function='RMSE', od_type='Iter')\n",
    "fit_model = cbr_model.fit(X_train,\n",
    "                          y_train,\n",
    "                          eval_set=(X_test, y_test),\n",
    "                          use_best_model=True,\n",
    "                          early_stopping_rounds=10,\n",
    "                          verbose=100)\n",
    "\n",
    "print(fit_model.get_params())"
   ]
  },
  {
   "cell_type": "code",
   "execution_count": 39,
   "metadata": {},
   "outputs": [
    {
     "data": {
      "text/plain": [
       "-3729.987679837972"
      ]
     },
     "execution_count": 39,
     "metadata": {},
     "output_type": "execute_result"
    }
   ],
   "source": [
    "fit_model.score(X_test, y_test)"
   ]
  },
  {
   "cell_type": "code",
   "execution_count": 40,
   "metadata": {},
   "outputs": [
    {
     "data": {
      "text/plain": [
       "0.728709619853394"
      ]
     },
     "execution_count": 40,
     "metadata": {},
     "output_type": "execute_result"
    }
   ],
   "source": [
    "y_pred = fit_model.predict(X_test)\n",
    "r2_score(y_test, y_pred)"
   ]
  },
  {
   "cell_type": "markdown",
   "metadata": {
    "pycharm": {
     "name": "#%% md\n"
    }
   },
   "source": [
    "## Pickle it"
   ]
  },
  {
   "cell_type": "code",
   "execution_count": 41,
   "metadata": {},
   "outputs": [],
   "source": [
    "# import pickle\n",
    "# tup = (xgb_model, ss)\n",
    "# pickle.dump(tup, open(\"model_bin/apart_model.p\", \"wb\" ))"
   ]
  }
 ],
 "metadata": {
  "kernelspec": {
   "display_name": "Python 3",
   "language": "python",
   "name": "python3"
  },
  "language_info": {
   "codemirror_mode": {
    "name": "ipython",
    "version": 3
   },
   "file_extension": ".py",
   "mimetype": "text/x-python",
   "name": "python",
   "nbconvert_exporter": "python",
   "pygments_lexer": "ipython3",
   "version": "3.8.5"
  }
 },
 "nbformat": 4,
 "nbformat_minor": 1
}