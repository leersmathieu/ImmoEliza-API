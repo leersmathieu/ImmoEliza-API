{
 "cells": [
  {
   "cell_type": "markdown",
   "metadata": {
    "collapsed": true
   },
   "source": [
    "# Prediction Model\n",
    "\n"
   ]
  },
  {
   "cell_type": "code",
   "execution_count": 38,
   "metadata": {},
   "outputs": [],
   "source": [
    "# importing librairies ...\n",
    "import pandas as pd\n",
    "import numpy as np\n",
    "import matplotlib.pyplot as plt\n",
    "from mpl_toolkits.mplot3d import Axes3D\n",
    "import seaborn as sns\n",
    "\n",
    "from sklearn.model_selection import train_test_split\n",
    "from sklearn import datasets, linear_model\n",
    "from sklearn.metrics import r2_score\n",
    "\n",
    "# %matplotlib notebook"
   ]
  },
  {
   "cell_type": "code",
   "execution_count": 39,
   "metadata": {
    "pycharm": {
     "name": "#%%\n"
    }
   },
   "outputs": [],
   "source": [
    "# The first step is to retrieve cleaned data \n",
    "df = pd.read_csv('./dataset/immoCollect52house-clean.csv', index_col = 0)"
   ]
  },
  {
   "cell_type": "markdown",
   "metadata": {},
   "source": [
    "## Cleaning / manipulation \n",
    "\n",
    "First, I'm going to do a little data cleansing to make sure that it corresponds precisely to my expectations for this project."
   ]
  },
  {
   "cell_type": "code",
   "execution_count": 40,
   "metadata": {
    "pycharm": {
     "name": "#%%\n"
    }
   },
   "outputs": [
    {
     "name": "stdout",
     "output_type": "stream",
     "text": [
      "(19788, 18)\n"
     ]
    },
    {
     "data": {
      "text/html": [
       "<div>\n",
       "<style scoped>\n",
       "    .dataframe tbody tr th:only-of-type {\n",
       "        vertical-align: middle;\n",
       "    }\n",
       "\n",
       "    .dataframe tbody tr th {\n",
       "        vertical-align: top;\n",
       "    }\n",
       "\n",
       "    .dataframe thead th {\n",
       "        text-align: right;\n",
       "    }\n",
       "</style>\n",
       "<table border=\"1\" class=\"dataframe\">\n",
       "  <thead>\n",
       "    <tr style=\"text-align: right;\">\n",
       "      <th></th>\n",
       "      <th>postal_code</th>\n",
       "      <th>price</th>\n",
       "      <th>number_of_bedroom</th>\n",
       "      <th>house_area</th>\n",
       "      <th>fully_equipped_kitchen</th>\n",
       "      <th>terrace</th>\n",
       "      <th>garden</th>\n",
       "      <th>number_of_facades</th>\n",
       "      <th>swimming_pool</th>\n",
       "      <th>is_new</th>\n",
       "      <th>locality</th>\n",
       "      <th>district</th>\n",
       "      <th>province</th>\n",
       "      <th>province_int</th>\n",
       "      <th>region</th>\n",
       "      <th>region_int</th>\n",
       "      <th>district_int</th>\n",
       "      <th>ratio_free_build</th>\n",
       "    </tr>\n",
       "  </thead>\n",
       "  <tbody>\n",
       "    <tr>\n",
       "      <th>6</th>\n",
       "      <td>1650</td>\n",
       "      <td>525000</td>\n",
       "      <td>4</td>\n",
       "      <td>220</td>\n",
       "      <td>1</td>\n",
       "      <td>1</td>\n",
       "      <td>1</td>\n",
       "      <td>4</td>\n",
       "      <td>0</td>\n",
       "      <td>1</td>\n",
       "      <td>Beersel</td>\n",
       "      <td>Hal-Vilvorde</td>\n",
       "      <td>brabant-flamand</td>\n",
       "      <td>5.0</td>\n",
       "      <td>flandre</td>\n",
       "      <td>0.0</td>\n",
       "      <td>8.0</td>\n",
       "      <td>-2.851322</td>\n",
       "    </tr>\n",
       "    <tr>\n",
       "      <th>9</th>\n",
       "      <td>1332</td>\n",
       "      <td>549000</td>\n",
       "      <td>4</td>\n",
       "      <td>210</td>\n",
       "      <td>1</td>\n",
       "      <td>1</td>\n",
       "      <td>1</td>\n",
       "      <td>4</td>\n",
       "      <td>0</td>\n",
       "      <td>1</td>\n",
       "      <td>Rixensart</td>\n",
       "      <td>Nivelles</td>\n",
       "      <td>brabant-wallon</td>\n",
       "      <td>8.0</td>\n",
       "      <td>wallonie</td>\n",
       "      <td>1.0</td>\n",
       "      <td>4.0</td>\n",
       "      <td>-3.410265</td>\n",
       "    </tr>\n",
       "    <tr>\n",
       "      <th>10</th>\n",
       "      <td>8310</td>\n",
       "      <td>519000</td>\n",
       "      <td>3</td>\n",
       "      <td>273</td>\n",
       "      <td>1</td>\n",
       "      <td>0</td>\n",
       "      <td>1</td>\n",
       "      <td>4</td>\n",
       "      <td>0</td>\n",
       "      <td>1</td>\n",
       "      <td>Brugge</td>\n",
       "      <td>Brugge</td>\n",
       "      <td>flandre-occidentale</td>\n",
       "      <td>0.0</td>\n",
       "      <td>flandre</td>\n",
       "      <td>0.0</td>\n",
       "      <td>28.0</td>\n",
       "      <td>-2.429051</td>\n",
       "    </tr>\n",
       "    <tr>\n",
       "      <th>12</th>\n",
       "      <td>8200</td>\n",
       "      <td>535000</td>\n",
       "      <td>4</td>\n",
       "      <td>200</td>\n",
       "      <td>1</td>\n",
       "      <td>1</td>\n",
       "      <td>1</td>\n",
       "      <td>4</td>\n",
       "      <td>0</td>\n",
       "      <td>1</td>\n",
       "      <td>Brugge</td>\n",
       "      <td>Brugge</td>\n",
       "      <td>flandre-occidentale</td>\n",
       "      <td>0.0</td>\n",
       "      <td>flandre</td>\n",
       "      <td>0.0</td>\n",
       "      <td>28.0</td>\n",
       "      <td>-2.429051</td>\n",
       "    </tr>\n",
       "    <tr>\n",
       "      <th>19</th>\n",
       "      <td>7850</td>\n",
       "      <td>550000</td>\n",
       "      <td>4</td>\n",
       "      <td>276</td>\n",
       "      <td>1</td>\n",
       "      <td>1</td>\n",
       "      <td>1</td>\n",
       "      <td>4</td>\n",
       "      <td>0</td>\n",
       "      <td>1</td>\n",
       "      <td>Enghien</td>\n",
       "      <td>Ath</td>\n",
       "      <td>hainaut</td>\n",
       "      <td>6.0</td>\n",
       "      <td>wallonie</td>\n",
       "      <td>1.0</td>\n",
       "      <td>9.0</td>\n",
       "      <td>-2.097867</td>\n",
       "    </tr>\n",
       "  </tbody>\n",
       "</table>\n",
       "</div>"
      ],
      "text/plain": [
       "    postal_code   price  number_of_bedroom  house_area  \\\n",
       "6          1650  525000                  4         220   \n",
       "9          1332  549000                  4         210   \n",
       "10         8310  519000                  3         273   \n",
       "12         8200  535000                  4         200   \n",
       "19         7850  550000                  4         276   \n",
       "\n",
       "    fully_equipped_kitchen  terrace  garden  number_of_facades  swimming_pool  \\\n",
       "6                        1        1       1                  4              0   \n",
       "9                        1        1       1                  4              0   \n",
       "10                       1        0       1                  4              0   \n",
       "12                       1        1       1                  4              0   \n",
       "19                       1        1       1                  4              0   \n",
       "\n",
       "    is_new   locality      district             province  province_int  \\\n",
       "6        1    Beersel  Hal-Vilvorde      brabant-flamand           5.0   \n",
       "9        1  Rixensart      Nivelles       brabant-wallon           8.0   \n",
       "10       1     Brugge        Brugge  flandre-occidentale           0.0   \n",
       "12       1     Brugge        Brugge  flandre-occidentale           0.0   \n",
       "19       1    Enghien           Ath              hainaut           6.0   \n",
       "\n",
       "      region  region_int  district_int  ratio_free_build  \n",
       "6    flandre         0.0           8.0         -2.851322  \n",
       "9   wallonie         1.0           4.0         -3.410265  \n",
       "10   flandre         0.0          28.0         -2.429051  \n",
       "12   flandre         0.0          28.0         -2.429051  \n",
       "19  wallonie         1.0           9.0         -2.097867  "
      ]
     },
     "execution_count": 40,
     "metadata": {},
     "output_type": "execute_result"
    }
   ],
   "source": [
    "print(df.shape)\n",
    "df.head()"
   ]
  },
  {
   "cell_type": "code",
   "execution_count": 41,
   "metadata": {},
   "outputs": [],
   "source": [
    "# I retrieve only utils columns for my model\n",
    "ratio_fb = df['ratio_free_build']\n",
    "df = df.iloc[:,1:9]\n",
    "df['ratio_free_build'] = ratio_fb"
   ]
  },
  {
   "cell_type": "code",
   "execution_count": 42,
   "metadata": {},
   "outputs": [
    {
     "name": "stdout",
     "output_type": "stream",
     "text": [
      "['price', 'number_of_bedroom', 'house_area', 'fully_equipped_kitchen', 'terrace', 'garden', 'number_of_facades', 'swimming_pool', 'ratio_free_build']\n"
     ]
    }
   ],
   "source": [
    "cols = df.columns.tolist()\n",
    "print(cols)\n",
    "# cols = cols[0:] + cols[:-1]\n",
    "# df = df[cols]"
   ]
  },
  {
   "cell_type": "code",
   "execution_count": 43,
   "metadata": {},
   "outputs": [
    {
     "data": {
      "text/html": [
       "<div>\n",
       "<style scoped>\n",
       "    .dataframe tbody tr th:only-of-type {\n",
       "        vertical-align: middle;\n",
       "    }\n",
       "\n",
       "    .dataframe tbody tr th {\n",
       "        vertical-align: top;\n",
       "    }\n",
       "\n",
       "    .dataframe thead th {\n",
       "        text-align: right;\n",
       "    }\n",
       "</style>\n",
       "<table border=\"1\" class=\"dataframe\">\n",
       "  <thead>\n",
       "    <tr style=\"text-align: right;\">\n",
       "      <th></th>\n",
       "      <th>price</th>\n",
       "      <th>number_of_bedroom</th>\n",
       "      <th>house_area</th>\n",
       "      <th>fully_equipped_kitchen</th>\n",
       "      <th>terrace</th>\n",
       "      <th>garden</th>\n",
       "      <th>number_of_facades</th>\n",
       "      <th>swimming_pool</th>\n",
       "      <th>ratio_free_build</th>\n",
       "    </tr>\n",
       "  </thead>\n",
       "  <tbody>\n",
       "    <tr>\n",
       "      <th>6</th>\n",
       "      <td>525000</td>\n",
       "      <td>4</td>\n",
       "      <td>220</td>\n",
       "      <td>1</td>\n",
       "      <td>1</td>\n",
       "      <td>1</td>\n",
       "      <td>4</td>\n",
       "      <td>0</td>\n",
       "      <td>-2.851322</td>\n",
       "    </tr>\n",
       "    <tr>\n",
       "      <th>9</th>\n",
       "      <td>549000</td>\n",
       "      <td>4</td>\n",
       "      <td>210</td>\n",
       "      <td>1</td>\n",
       "      <td>1</td>\n",
       "      <td>1</td>\n",
       "      <td>4</td>\n",
       "      <td>0</td>\n",
       "      <td>-3.410265</td>\n",
       "    </tr>\n",
       "    <tr>\n",
       "      <th>10</th>\n",
       "      <td>519000</td>\n",
       "      <td>3</td>\n",
       "      <td>273</td>\n",
       "      <td>1</td>\n",
       "      <td>0</td>\n",
       "      <td>1</td>\n",
       "      <td>4</td>\n",
       "      <td>0</td>\n",
       "      <td>-2.429051</td>\n",
       "    </tr>\n",
       "    <tr>\n",
       "      <th>12</th>\n",
       "      <td>535000</td>\n",
       "      <td>4</td>\n",
       "      <td>200</td>\n",
       "      <td>1</td>\n",
       "      <td>1</td>\n",
       "      <td>1</td>\n",
       "      <td>4</td>\n",
       "      <td>0</td>\n",
       "      <td>-2.429051</td>\n",
       "    </tr>\n",
       "    <tr>\n",
       "      <th>19</th>\n",
       "      <td>550000</td>\n",
       "      <td>4</td>\n",
       "      <td>276</td>\n",
       "      <td>1</td>\n",
       "      <td>1</td>\n",
       "      <td>1</td>\n",
       "      <td>4</td>\n",
       "      <td>0</td>\n",
       "      <td>-2.097867</td>\n",
       "    </tr>\n",
       "  </tbody>\n",
       "</table>\n",
       "</div>"
      ],
      "text/plain": [
       "     price  number_of_bedroom  house_area  fully_equipped_kitchen  terrace  \\\n",
       "6   525000                  4         220                       1        1   \n",
       "9   549000                  4         210                       1        1   \n",
       "10  519000                  3         273                       1        0   \n",
       "12  535000                  4         200                       1        1   \n",
       "19  550000                  4         276                       1        1   \n",
       "\n",
       "    garden  number_of_facades  swimming_pool  ratio_free_build  \n",
       "6        1                  4              0         -2.851322  \n",
       "9        1                  4              0         -3.410265  \n",
       "10       1                  4              0         -2.429051  \n",
       "12       1                  4              0         -2.429051  \n",
       "19       1                  4              0         -2.097867  "
      ]
     },
     "execution_count": 43,
     "metadata": {},
     "output_type": "execute_result"
    }
   ],
   "source": [
    "df.head()"
   ]
  },
  {
   "cell_type": "code",
   "execution_count": 44,
   "metadata": {
    "scrolled": true
   },
   "outputs": [
    {
     "name": "stdout",
     "output_type": "stream",
     "text": [
      "<class 'pandas.core.frame.DataFrame'>\n",
      "Int64Index: 19788 entries, 6 to 59161\n",
      "Data columns (total 9 columns):\n",
      " #   Column                  Non-Null Count  Dtype  \n",
      "---  ------                  --------------  -----  \n",
      " 0   price                   19788 non-null  int64  \n",
      " 1   number_of_bedroom       19788 non-null  int64  \n",
      " 2   house_area              19788 non-null  int64  \n",
      " 3   fully_equipped_kitchen  19788 non-null  int64  \n",
      " 4   terrace                 19788 non-null  int64  \n",
      " 5   garden                  19788 non-null  int64  \n",
      " 6   number_of_facades       19788 non-null  int64  \n",
      " 7   swimming_pool           19788 non-null  int64  \n",
      " 8   ratio_free_build        19788 non-null  float64\n",
      "dtypes: float64(1), int64(8)\n",
      "memory usage: 1.5 MB\n"
     ]
    }
   ],
   "source": [
    "df.info()"
   ]
  },
  {
   "cell_type": "markdown",
   "metadata": {},
   "source": [
    "### Testing boxcox"
   ]
  },
  {
   "cell_type": "code",
   "execution_count": 45,
   "metadata": {},
   "outputs": [
    {
     "data": {
      "text/plain": [
       "Text(0.5, 1.0, 'Probplot after Box-Cox transformation')"
      ]
     },
     "execution_count": 45,
     "metadata": {},
     "output_type": "execute_result"
    },
    {
     "data": {
      "image/png": "[encoded data removed]",
      "text/plain": [
       "<Figure size 432x288 with 2 Axes>"
      ]
     },
     "metadata": {
      "needs_background": "light"
     },
     "output_type": "display_data"
    }
   ],
   "source": [
    "from scipy import stats\n",
    "from scipy.special import boxcox, inv_boxcox\n",
    "\n",
    "POWER = 0.2\n",
    "\n",
    "fig = plt.figure()\n",
    "ax1 = fig.add_subplot(211)\n",
    "prob = stats.probplot(df['price'], dist=stats.norm, plot=ax1)\n",
    "ax1.set_xlabel('')\n",
    "ax1.set_title('Probplot against normal distribution')\n",
    "\n",
    "ax2 = fig.add_subplot(212)\n",
    "xt = boxcox(df['price'],POWER)\n",
    "prob = stats.probplot(xt, dist=stats.norm, plot=ax2)\n",
    "ax2.set_title('Probplot after Box-Cox transformation')"
   ]
  },
  {
   "cell_type": "code",
   "execution_count": 46,
   "metadata": {},
   "outputs": [],
   "source": [
    "price_temp = boxcox(df['price'],POWER )"
   ]
  },
  {
   "cell_type": "code",
   "execution_count": 47,
   "metadata": {},
   "outputs": [
    {
     "data": {
      "text/plain": [
       "(array([  36.,   59.,   61.,   74.,   75.,   96.,   93.,  131.,  270.,\n",
       "          85.,  206.,  211.,  395.,  413.,  462.,  426.,  416.,  532.,\n",
       "         517.,  676.,  454.,  905.,  610., 1012.,  965., 1116., 1130.,\n",
       "         798.,  979.,  946.,  686.,  939.,  305.,  407.,  480.,  369.,\n",
       "         348.,  217.,  301.,  300.,  153.,  222.,  151.,  146.,  130.,\n",
       "          85.,  139.,   98.,  102.,   61.]),\n",
       " array([38.87030695, 39.56161824, 40.25292952, 40.94424081, 41.6355521 ,\n",
       "        42.32686339, 43.01817467, 43.70948596, 44.40079725, 45.09210854,\n",
       "        45.78341982, 46.47473111, 47.1660424 , 47.85735369, 48.54866498,\n",
       "        49.23997626, 49.93128755, 50.62259884, 51.31391013, 52.00522141,\n",
       "        52.6965327 , 53.38784399, 54.07915528, 54.77046656, 55.46177785,\n",
       "        56.15308914, 56.84440043, 57.53571171, 58.227023  , 58.91833429,\n",
       "        59.60964558, 60.30095686, 60.99226815, 61.68357944, 62.37489073,\n",
       "        63.06620201, 63.7575133 , 64.44882459, 65.14013588, 65.83144716,\n",
       "        66.52275845, 67.21406974, 67.90538103, 68.59669231, 69.2880036 ,\n",
       "        69.97931489, 70.67062618, 71.36193746, 72.05324875, 72.74456004,\n",
       "        73.43587133]),\n",
       " <BarContainer object of 50 artists>)"
      ]
     },
     "execution_count": 47,
     "metadata": {},
     "output_type": "execute_result"
    },
    {
     "data": {
      "image/png": "[encoded data removed]",
      "text/plain": [
       "<Figure size 432x288 with 1 Axes>"
      ]
     },
     "metadata": {
      "needs_background": "light"
     },
     "output_type": "display_data"
    }
   ],
   "source": [
    "plt.hist(price_temp, 50)"
   ]
  },
  {
   "cell_type": "code",
   "execution_count": 48,
   "metadata": {},
   "outputs": [
    {
     "data": {
      "text/plain": [
       "0.0358613291361834"
      ]
     },
     "execution_count": 48,
     "metadata": {},
     "output_type": "execute_result"
    }
   ],
   "source": [
    "price_temp.skew()"
   ]
  },
  {
   "cell_type": "markdown",
   "metadata": {},
   "source": [
    "### Applying to my DF"
   ]
  },
  {
   "cell_type": "code",
   "execution_count": 49,
   "metadata": {},
   "outputs": [],
   "source": [
    "# df['price'] = boxcox(df['price'], POWER)"
   ]
  },
  {
   "cell_type": "code",
   "execution_count": 50,
   "metadata": {},
   "outputs": [
    {
     "data": {
      "text/plain": [
       "1.239288276761603"
      ]
     },
     "execution_count": 50,
     "metadata": {},
     "output_type": "execute_result"
    }
   ],
   "source": [
    "df['price'].skew()"
   ]
  },
  {
   "cell_type": "code",
   "execution_count": 51,
   "metadata": {},
   "outputs": [],
   "source": [
    "# df['price'] = inv_boxcox(df['price'], POWER)"
   ]
  },
  {
   "cell_type": "code",
   "execution_count": 52,
   "metadata": {},
   "outputs": [
    {
     "data": {
      "text/plain": [
       "1.239288276761603"
      ]
     },
     "execution_count": 52,
     "metadata": {},
     "output_type": "execute_result"
    }
   ],
   "source": [
    "df['price'].skew()"
   ]
  },
  {
   "cell_type": "markdown",
   "metadata": {},
   "source": [
    "## Let's train and predict for HOUSE !"
   ]
  },
  {
   "cell_type": "code",
   "execution_count": 53,
   "metadata": {},
   "outputs": [
    {
     "data": {
      "image/png": "[encoded data removed]",
      "text/plain": [
       "<Figure size 1152x576 with 2 Axes>"
      ]
     },
     "metadata": {
      "needs_background": "light"
     },
     "output_type": "display_data"
    }
   ],
   "source": [
    "# Print the heatmap\n",
    "plt.subplots(figsize=(16, 8))   \n",
    "sns.heatmap(df.corr(), annot=True, linewidths=0.05, fmt= '.2f', vmin=-1, vmax=1, center=0, cmap=sns.diverging_palette(20, 220, n=200))\n",
    "\n",
    "plt.show()"
   ]
  },
  {
   "cell_type": "code",
   "execution_count": 54,
   "metadata": {},
   "outputs": [
    {
     "data": {
      "text/html": [
       "<div>\n",
       "<style scoped>\n",
       "    .dataframe tbody tr th:only-of-type {\n",
       "        vertical-align: middle;\n",
       "    }\n",
       "\n",
       "    .dataframe tbody tr th {\n",
       "        vertical-align: top;\n",
       "    }\n",
       "\n",
       "    .dataframe thead th {\n",
       "        text-align: right;\n",
       "    }\n",
       "</style>\n",
       "<table border=\"1\" class=\"dataframe\">\n",
       "  <thead>\n",
       "    <tr style=\"text-align: right;\">\n",
       "      <th></th>\n",
       "      <th>number_of_bedroom</th>\n",
       "      <th>house_area</th>\n",
       "      <th>fully_equipped_kitchen</th>\n",
       "      <th>terrace</th>\n",
       "      <th>garden</th>\n",
       "      <th>number_of_facades</th>\n",
       "      <th>swimming_pool</th>\n",
       "      <th>ratio_free_build</th>\n",
       "    </tr>\n",
       "  </thead>\n",
       "  <tbody>\n",
       "    <tr>\n",
       "      <th>6</th>\n",
       "      <td>4</td>\n",
       "      <td>220</td>\n",
       "      <td>1</td>\n",
       "      <td>1</td>\n",
       "      <td>1</td>\n",
       "      <td>4</td>\n",
       "      <td>0</td>\n",
       "      <td>-2.851322</td>\n",
       "    </tr>\n",
       "    <tr>\n",
       "      <th>9</th>\n",
       "      <td>4</td>\n",
       "      <td>210</td>\n",
       "      <td>1</td>\n",
       "      <td>1</td>\n",
       "      <td>1</td>\n",
       "      <td>4</td>\n",
       "      <td>0</td>\n",
       "      <td>-3.410265</td>\n",
       "    </tr>\n",
       "    <tr>\n",
       "      <th>10</th>\n",
       "      <td>3</td>\n",
       "      <td>273</td>\n",
       "      <td>1</td>\n",
       "      <td>0</td>\n",
       "      <td>1</td>\n",
       "      <td>4</td>\n",
       "      <td>0</td>\n",
       "      <td>-2.429051</td>\n",
       "    </tr>\n",
       "    <tr>\n",
       "      <th>12</th>\n",
       "      <td>4</td>\n",
       "      <td>200</td>\n",
       "      <td>1</td>\n",
       "      <td>1</td>\n",
       "      <td>1</td>\n",
       "      <td>4</td>\n",
       "      <td>0</td>\n",
       "      <td>-2.429051</td>\n",
       "    </tr>\n",
       "    <tr>\n",
       "      <th>19</th>\n",
       "      <td>4</td>\n",
       "      <td>276</td>\n",
       "      <td>1</td>\n",
       "      <td>1</td>\n",
       "      <td>1</td>\n",
       "      <td>4</td>\n",
       "      <td>0</td>\n",
       "      <td>-2.097867</td>\n",
       "    </tr>\n",
       "  </tbody>\n",
       "</table>\n",
       "</div>"
      ],
      "text/plain": [
       "    number_of_bedroom  house_area  fully_equipped_kitchen  terrace  garden  \\\n",
       "6                   4         220                       1        1       1   \n",
       "9                   4         210                       1        1       1   \n",
       "10                  3         273                       1        0       1   \n",
       "12                  4         200                       1        1       1   \n",
       "19                  4         276                       1        1       1   \n",
       "\n",
       "    number_of_facades  swimming_pool  ratio_free_build  \n",
       "6                   4              0         -2.851322  \n",
       "9                   4              0         -3.410265  \n",
       "10                  4              0         -2.429051  \n",
       "12                  4              0         -2.429051  \n",
       "19                  4              0         -2.097867  "
      ]
     },
     "execution_count": 54,
     "metadata": {},
     "output_type": "execute_result"
    }
   ],
   "source": [
    "X = df.drop(columns=['price'])\n",
    "X.head()"
   ]
  },
  {
   "cell_type": "code",
   "execution_count": 55,
   "metadata": {},
   "outputs": [
    {
     "data": {
      "text/html": [
       "<div>\n",
       "<style scoped>\n",
       "    .dataframe tbody tr th:only-of-type {\n",
       "        vertical-align: middle;\n",
       "    }\n",
       "\n",
       "    .dataframe tbody tr th {\n",
       "        vertical-align: top;\n",
       "    }\n",
       "\n",
       "    .dataframe thead th {\n",
       "        text-align: right;\n",
       "    }\n",
       "</style>\n",
       "<table border=\"1\" class=\"dataframe\">\n",
       "  <thead>\n",
       "    <tr style=\"text-align: right;\">\n",
       "      <th></th>\n",
       "      <th>price</th>\n",
       "    </tr>\n",
       "  </thead>\n",
       "  <tbody>\n",
       "    <tr>\n",
       "      <th>6</th>\n",
       "      <td>525000</td>\n",
       "    </tr>\n",
       "    <tr>\n",
       "      <th>9</th>\n",
       "      <td>549000</td>\n",
       "    </tr>\n",
       "    <tr>\n",
       "      <th>10</th>\n",
       "      <td>519000</td>\n",
       "    </tr>\n",
       "    <tr>\n",
       "      <th>12</th>\n",
       "      <td>535000</td>\n",
       "    </tr>\n",
       "    <tr>\n",
       "      <th>19</th>\n",
       "      <td>550000</td>\n",
       "    </tr>\n",
       "  </tbody>\n",
       "</table>\n",
       "</div>"
      ],
      "text/plain": [
       "     price\n",
       "6   525000\n",
       "9   549000\n",
       "10  519000\n",
       "12  535000\n",
       "19  550000"
      ]
     },
     "execution_count": 55,
     "metadata": {},
     "output_type": "execute_result"
    }
   ],
   "source": [
    "y = df[['price']]\n",
    "y.head()"
   ]
  },
  {
   "cell_type": "code",
   "execution_count": 56,
   "metadata": {},
   "outputs": [
    {
     "data": {
      "image/png": "[encoded data removed]",
      "text/plain": [
       "<Figure size 432x288 with 1 Axes>"
      ]
     },
     "metadata": {
      "needs_background": "light"
     },
     "output_type": "display_data"
    }
   ],
   "source": [
    "# %matplotlib notebook\n",
    "fig = plt.figure()\n",
    "\n",
    "ax = fig.add_subplot(111, projection='3d')\n",
    "ax.scatter3D( X['number_of_bedroom'],X['house_area'], y, c=y, cmap='gist_heat')\n",
    "ax.view_init(27, -64)"
   ]
  },
  {
   "cell_type": "markdown",
   "metadata": {},
   "source": [
    "### Split the dataset"
   ]
  },
  {
   "cell_type": "code",
   "execution_count": 57,
   "metadata": {},
   "outputs": [],
   "source": [
    "X_train, X_test, y_train, y_test = train_test_split(X,y, test_size=0.1, random_state=42)"
   ]
  },
  {
   "cell_type": "code",
   "execution_count": 58,
   "metadata": {},
   "outputs": [
    {
     "data": {
      "text/html": [
       "<div>\n",
       "<style scoped>\n",
       "    .dataframe tbody tr th:only-of-type {\n",
       "        vertical-align: middle;\n",
       "    }\n",
       "\n",
       "    .dataframe tbody tr th {\n",
       "        vertical-align: top;\n",
       "    }\n",
       "\n",
       "    .dataframe thead th {\n",
       "        text-align: right;\n",
       "    }\n",
       "</style>\n",
       "<table border=\"1\" class=\"dataframe\">\n",
       "  <thead>\n",
       "    <tr style=\"text-align: right;\">\n",
       "      <th></th>\n",
       "      <th>number_of_bedroom</th>\n",
       "      <th>house_area</th>\n",
       "      <th>fully_equipped_kitchen</th>\n",
       "      <th>terrace</th>\n",
       "      <th>garden</th>\n",
       "      <th>number_of_facades</th>\n",
       "      <th>swimming_pool</th>\n",
       "      <th>ratio_free_build</th>\n",
       "    </tr>\n",
       "  </thead>\n",
       "  <tbody>\n",
       "    <tr>\n",
       "      <th>42078</th>\n",
       "      <td>4</td>\n",
       "      <td>353</td>\n",
       "      <td>1</td>\n",
       "      <td>0</td>\n",
       "      <td>0</td>\n",
       "      <td>2</td>\n",
       "      <td>0</td>\n",
       "      <td>-1.861387</td>\n",
       "    </tr>\n",
       "    <tr>\n",
       "      <th>54962</th>\n",
       "      <td>3</td>\n",
       "      <td>150</td>\n",
       "      <td>1</td>\n",
       "      <td>0</td>\n",
       "      <td>1</td>\n",
       "      <td>1</td>\n",
       "      <td>0</td>\n",
       "      <td>-2.314025</td>\n",
       "    </tr>\n",
       "    <tr>\n",
       "      <th>4986</th>\n",
       "      <td>3</td>\n",
       "      <td>225</td>\n",
       "      <td>1</td>\n",
       "      <td>1</td>\n",
       "      <td>1</td>\n",
       "      <td>4</td>\n",
       "      <td>0</td>\n",
       "      <td>-2.863048</td>\n",
       "    </tr>\n",
       "    <tr>\n",
       "      <th>3670</th>\n",
       "      <td>4</td>\n",
       "      <td>410</td>\n",
       "      <td>1</td>\n",
       "      <td>1</td>\n",
       "      <td>1</td>\n",
       "      <td>4</td>\n",
       "      <td>0</td>\n",
       "      <td>-1.611101</td>\n",
       "    </tr>\n",
       "    <tr>\n",
       "      <th>50529</th>\n",
       "      <td>3</td>\n",
       "      <td>125</td>\n",
       "      <td>1</td>\n",
       "      <td>1</td>\n",
       "      <td>1</td>\n",
       "      <td>3</td>\n",
       "      <td>0</td>\n",
       "      <td>-3.112351</td>\n",
       "    </tr>\n",
       "    <tr>\n",
       "      <th>...</th>\n",
       "      <td>...</td>\n",
       "      <td>...</td>\n",
       "      <td>...</td>\n",
       "      <td>...</td>\n",
       "      <td>...</td>\n",
       "      <td>...</td>\n",
       "      <td>...</td>\n",
       "      <td>...</td>\n",
       "    </tr>\n",
       "    <tr>\n",
       "      <th>42190</th>\n",
       "      <td>3</td>\n",
       "      <td>304</td>\n",
       "      <td>1</td>\n",
       "      <td>0</td>\n",
       "      <td>0</td>\n",
       "      <td>4</td>\n",
       "      <td>0</td>\n",
       "      <td>-1.758649</td>\n",
       "    </tr>\n",
       "    <tr>\n",
       "      <th>753</th>\n",
       "      <td>3</td>\n",
       "      <td>232</td>\n",
       "      <td>0</td>\n",
       "      <td>1</td>\n",
       "      <td>0</td>\n",
       "      <td>1</td>\n",
       "      <td>0</td>\n",
       "      <td>-2.522504</td>\n",
       "    </tr>\n",
       "    <tr>\n",
       "      <th>34173</th>\n",
       "      <td>3</td>\n",
       "      <td>106</td>\n",
       "      <td>0</td>\n",
       "      <td>0</td>\n",
       "      <td>0</td>\n",
       "      <td>2</td>\n",
       "      <td>0</td>\n",
       "      <td>-2.719016</td>\n",
       "    </tr>\n",
       "    <tr>\n",
       "      <th>48992</th>\n",
       "      <td>3</td>\n",
       "      <td>124</td>\n",
       "      <td>0</td>\n",
       "      <td>1</td>\n",
       "      <td>1</td>\n",
       "      <td>1</td>\n",
       "      <td>0</td>\n",
       "      <td>-2.657320</td>\n",
       "    </tr>\n",
       "    <tr>\n",
       "      <th>35601</th>\n",
       "      <td>3</td>\n",
       "      <td>144</td>\n",
       "      <td>1</td>\n",
       "      <td>0</td>\n",
       "      <td>1</td>\n",
       "      <td>4</td>\n",
       "      <td>0</td>\n",
       "      <td>-1.964894</td>\n",
       "    </tr>\n",
       "  </tbody>\n",
       "</table>\n",
       "<p>1979 rows × 8 columns</p>\n",
       "</div>"
      ],
      "text/plain": [
       "       number_of_bedroom  house_area  fully_equipped_kitchen  terrace  garden  \\\n",
       "42078                  4         353                       1        0       0   \n",
       "54962                  3         150                       1        0       1   \n",
       "4986                   3         225                       1        1       1   \n",
       "3670                   4         410                       1        1       1   \n",
       "50529                  3         125                       1        1       1   \n",
       "...                  ...         ...                     ...      ...     ...   \n",
       "42190                  3         304                       1        0       0   \n",
       "753                    3         232                       0        1       0   \n",
       "34173                  3         106                       0        0       0   \n",
       "48992                  3         124                       0        1       1   \n",
       "35601                  3         144                       1        0       1   \n",
       "\n",
       "       number_of_facades  swimming_pool  ratio_free_build  \n",
       "42078                  2              0         -1.861387  \n",
       "54962                  1              0         -2.314025  \n",
       "4986                   4              0         -2.863048  \n",
       "3670                   4              0         -1.611101  \n",
       "50529                  3              0         -3.112351  \n",
       "...                  ...            ...               ...  \n",
       "42190                  4              0         -1.758649  \n",
       "753                    1              0         -2.522504  \n",
       "34173                  2              0         -2.719016  \n",
       "48992                  1              0         -2.657320  \n",
       "35601                  4              0         -1.964894  \n",
       "\n",
       "[1979 rows x 8 columns]"
      ]
     },
     "execution_count": 58,
     "metadata": {},
     "output_type": "execute_result"
    }
   ],
   "source": [
    "X_test"
   ]
  },
  {
   "cell_type": "markdown",
   "metadata": {},
   "source": [
    "### Scaler"
   ]
  },
  {
   "cell_type": "code",
   "execution_count": 60,
   "metadata": {},
   "outputs": [],
   "source": [
    "from sklearn.preprocessing import StandardScaler\n",
    "from sklearn.preprocessing import MinMaxScaler\n",
    "from sklearn.preprocessing import RobustScaler\n",
    "\n",
    "# Init a standard scaler\n",
    "ss = MinMaxScaler()\n",
    "\n",
    "# Scale the features\n",
    "X_train = ss.fit_transform(X_train)\n",
    "X_test = ss.transform(X_test)"
   ]
  },
  {
   "cell_type": "markdown",
   "metadata": {},
   "source": [
    "### 1. Multiple Linear regression"
   ]
  },
  {
   "cell_type": "code",
   "execution_count": 61,
   "metadata": {},
   "outputs": [
    {
     "data": {
      "text/plain": [
       "LinearRegression()"
      ]
     },
     "execution_count": 61,
     "metadata": {},
     "output_type": "execute_result"
    }
   ],
   "source": [
    "regressor = linear_model.LinearRegression()\n",
    "regressor.fit(X_train, y_train) # Entrainement du model"
   ]
  },
  {
   "cell_type": "code",
   "execution_count": 62,
   "metadata": {},
   "outputs": [
    {
     "data": {
      "text/plain": [
       "0.4251736740221935"
      ]
     },
     "execution_count": 62,
     "metadata": {},
     "output_type": "execute_result"
    }
   ],
   "source": [
    "score = regressor.score(X_train,y_train)\n",
    "score"
   ]
  },
  {
   "cell_type": "code",
   "execution_count": 63,
   "metadata": {},
   "outputs": [
    {
     "data": {
      "text/plain": [
       "0.42532330821281195"
      ]
     },
     "execution_count": 63,
     "metadata": {},
     "output_type": "execute_result"
    }
   ],
   "source": [
    "score = regressor.score(X_test,y_test)\n",
    "score"
   ]
  },
  {
   "cell_type": "markdown",
   "metadata": {},
   "source": [
    "### 2. With polynomial regression"
   ]
  },
  {
   "cell_type": "code",
   "execution_count": 84,
   "metadata": {},
   "outputs": [],
   "source": [
    "from sklearn.preprocessing import PolynomialFeatures\n",
    "from sklearn.pipeline import make_pipeline\n",
    "from sklearn.linear_model import LinearRegression\n",
    "\n",
    "degree = 4\n",
    "\n",
    "pipe=make_pipeline(PolynomialFeatures(degree),LinearRegression())"
   ]
  },
  {
   "cell_type": "code",
   "execution_count": 85,
   "metadata": {},
   "outputs": [
    {
     "data": {
      "text/plain": [
       "Pipeline(steps=[('polynomialfeatures', PolynomialFeatures(degree=4)),\n",
       "                ('linearregression', LinearRegression())])"
      ]
     },
     "execution_count": 85,
     "metadata": {},
     "output_type": "execute_result"
    }
   ],
   "source": [
    "pipe.fit(X_train, y_train)"
   ]
  },
  {
   "cell_type": "code",
   "execution_count": 86,
   "metadata": {},
   "outputs": [
    {
     "data": {
      "text/plain": [
       "0.5199178373427655"
      ]
     },
     "execution_count": 86,
     "metadata": {},
     "output_type": "execute_result"
    }
   ],
   "source": [
    "pipe.score(X_train, y_train)"
   ]
  },
  {
   "cell_type": "code",
   "execution_count": 87,
   "metadata": {},
   "outputs": [
    {
     "data": {
      "text/plain": [
       "0.48759173618092255"
      ]
     },
     "execution_count": 87,
     "metadata": {},
     "output_type": "execute_result"
    }
   ],
   "source": [
    "pipe.score(X_test, y_test)"
   ]
  },
  {
   "cell_type": "markdown",
   "metadata": {},
   "source": [
    "### 3. KNN Regressor"
   ]
  },
  {
   "cell_type": "code",
   "execution_count": 109,
   "metadata": {},
   "outputs": [
    {
     "data": {
      "text/plain": [
       "KNeighborsRegressor(n_neighbors=9)"
      ]
     },
     "execution_count": 109,
     "metadata": {},
     "output_type": "execute_result"
    }
   ],
   "source": [
    "from sklearn.neighbors import KNeighborsRegressor\n",
    "\n",
    "knn = KNeighborsRegressor(n_neighbors=9)\n",
    "knn.fit(X_train, y_train)"
   ]
  },
  {
   "cell_type": "code",
   "execution_count": 110,
   "metadata": {},
   "outputs": [
    {
     "data": {
      "text/plain": [
       "0.5727275840216692"
      ]
     },
     "execution_count": 110,
     "metadata": {},
     "output_type": "execute_result"
    }
   ],
   "source": [
    "knn.score(X_train, y_train)"
   ]
  },
  {
   "cell_type": "code",
   "execution_count": 111,
   "metadata": {
    "scrolled": false
   },
   "outputs": [
    {
     "data": {
      "text/plain": [
       "0.4360887724883715"
      ]
     },
     "execution_count": 111,
     "metadata": {},
     "output_type": "execute_result"
    }
   ],
   "source": [
    "knn.score(X_test, y_test)"
   ]
  },
  {
   "cell_type": "markdown",
   "metadata": {},
   "source": [
    "### 4. Decision Trees"
   ]
  },
  {
   "cell_type": "code",
   "execution_count": 138,
   "metadata": {},
   "outputs": [
    {
     "data": {
      "text/plain": [
       "DecisionTreeRegressor(max_depth=9, random_state=42)"
      ]
     },
     "execution_count": 138,
     "metadata": {},
     "output_type": "execute_result"
    }
   ],
   "source": [
    "from sklearn.tree import DecisionTreeRegressor\n",
    "from sklearn.model_selection import cross_val_score\n",
    "\n",
    "regressor = DecisionTreeRegressor(random_state=42, max_depth=9, min_samples_split=2)\n",
    "regressor.fit(X_train, y_train)"
   ]
  },
  {
   "cell_type": "code",
   "execution_count": 139,
   "metadata": {},
   "outputs": [
    {
     "data": {
      "text/plain": [
       "0.5939050318778563"
      ]
     },
     "execution_count": 139,
     "metadata": {},
     "output_type": "execute_result"
    }
   ],
   "source": [
    "regressor.score(X_train, y_train)"
   ]
  },
  {
   "cell_type": "code",
   "execution_count": 140,
   "metadata": {},
   "outputs": [
    {
     "data": {
      "text/plain": [
       "0.5017076813948786"
      ]
     },
     "execution_count": 140,
     "metadata": {},
     "output_type": "execute_result"
    }
   ],
   "source": [
    "regressor.score(X_test, y_test)"
   ]
  },
  {
   "cell_type": "markdown",
   "metadata": {},
   "source": [
    "### 5. Random Forest Regressor"
   ]
  },
  {
   "cell_type": "code",
   "execution_count": 157,
   "metadata": {},
   "outputs": [
    {
     "name": "stderr",
     "output_type": "stream",
     "text": [
      "<ipython-input-157-2e99fa92c08c>:4: DataConversionWarning: A column-vector y was passed when a 1d array was expected. Please change the shape of y to (n_samples,), for example using ravel().\n",
      "  regr.fit(X, y)\n"
     ]
    },
    {
     "data": {
      "text/plain": [
       "RandomForestRegressor(max_depth=6, random_state=42)"
      ]
     },
     "execution_count": 157,
     "metadata": {},
     "output_type": "execute_result"
    }
   ],
   "source": [
    "from sklearn.ensemble import RandomForestRegressor\n",
    "\n",
    "regr = RandomForestRegressor(max_depth=6, random_state=42)\n",
    "regr.fit(X, y)"
   ]
  },
  {
   "cell_type": "code",
   "execution_count": 158,
   "metadata": {},
   "outputs": [
    {
     "data": {
      "text/plain": [
       "-1.13209058523503"
      ]
     },
     "execution_count": 158,
     "metadata": {},
     "output_type": "execute_result"
    }
   ],
   "source": [
    "regr.score(X_train, y_train)"
   ]
  },
  {
   "cell_type": "code",
   "execution_count": 159,
   "metadata": {},
   "outputs": [
    {
     "data": {
      "text/plain": [
       "-1.0932757143611918"
      ]
     },
     "execution_count": 159,
     "metadata": {},
     "output_type": "execute_result"
    }
   ],
   "source": [
    "regr.score(X_test, y_test)"
   ]
  },
  {
   "cell_type": "code",
   "execution_count": 160,
   "metadata": {},
   "outputs": [
    {
     "data": {
      "text/plain": [
       "-1.0932757143611918"
      ]
     },
     "execution_count": 160,
     "metadata": {},
     "output_type": "execute_result"
    }
   ],
   "source": [
    "y_pred = regr.predict(X_test)\n",
    "r2_score(y_test, y_pred)"
   ]
  },
  {
   "cell_type": "markdown",
   "metadata": {},
   "source": [
    "### 6.Gradient boost"
   ]
  },
  {
   "cell_type": "code",
   "execution_count": 196,
   "metadata": {},
   "outputs": [
    {
     "name": "stderr",
     "output_type": "stream",
     "text": [
      "/home/leersla/Desktop/Turing4/ImmoEliza-API/venv/lib/python3.8/site-packages/sklearn/utils/validation.py:72: DataConversionWarning: A column-vector y was passed when a 1d array was expected. Please change the shape of y to (n_samples, ), for example using ravel().\n",
      "  return f(**kwargs)\n"
     ]
    },
    {
     "data": {
      "text/plain": [
       "GradientBoostingRegressor(learning_rate=0.01, n_estimators=3000,\n",
       "                          random_state=42)"
      ]
     },
     "execution_count": 196,
     "metadata": {},
     "output_type": "execute_result"
    }
   ],
   "source": [
    "from sklearn.ensemble import GradientBoostingRegressor\n",
    "\n",
    "reg = GradientBoostingRegressor(random_state=42, n_estimators=3000, learning_rate=0.01)\n",
    "reg.fit(X_train, y_train)"
   ]
  },
  {
   "cell_type": "code",
   "execution_count": 197,
   "metadata": {},
   "outputs": [
    {
     "data": {
      "text/plain": [
       "0.6619458101196463"
      ]
     },
     "execution_count": 197,
     "metadata": {},
     "output_type": "execute_result"
    }
   ],
   "source": [
    "reg.score(X_train, y_train)"
   ]
  },
  {
   "cell_type": "code",
   "execution_count": 198,
   "metadata": {
    "scrolled": true
   },
   "outputs": [
    {
     "data": {
      "text/plain": [
       "0.6240601385849622"
      ]
     },
     "execution_count": 198,
     "metadata": {},
     "output_type": "execute_result"
    }
   ],
   "source": [
    "reg.score(X_test, y_test)"
   ]
  },
  {
   "cell_type": "markdown",
   "metadata": {},
   "source": [
    "### 7. XGB"
   ]
  },
  {
   "cell_type": "code",
   "execution_count": 227,
   "metadata": {},
   "outputs": [
    {
     "data": {
      "text/plain": [
       "XGBRegressor(base_score=0.5, booster='gbtree', colsample_bylevel=1,\n",
       "             colsample_bynode=1, colsample_bytree=1, gamma=0, gpu_id=-1,\n",
       "             importance_type='gain', interaction_constraints='',\n",
       "             learning_rate=0.01, max_delta_step=0, max_depth=7,\n",
       "             min_child_weight=1, missing=nan, monotone_constraints='()',\n",
       "             n_estimators=3000, n_jobs=0, num_parallel_tree=1, random_state=42,\n",
       "             reg_alpha=0, reg_lambda=1, scale_pos_weight=1, subsample=1,\n",
       "             tree_method='exact', validate_parameters=1, verbosity=None)"
      ]
     },
     "execution_count": 227,
     "metadata": {},
     "output_type": "execute_result"
    }
   ],
   "source": [
    "import xgboost as xgb\n",
    "\n",
    "xgb_model = xgb.XGBRegressor(objective=\"reg:squarederror\", random_state=42, n_estimators=3000,\n",
    "                             learning_rate=0.01, max_depth=7)\n",
    "xgb_model.fit(X_train, y_train)"
   ]
  },
  {
   "cell_type": "code",
   "execution_count": 228,
   "metadata": {},
   "outputs": [
    {
     "data": {
      "text/plain": [
       "0.8451811897292874"
      ]
     },
     "execution_count": 228,
     "metadata": {},
     "output_type": "execute_result"
    }
   ],
   "source": [
    "xgb_model.score(X_train, y_train)"
   ]
  },
  {
   "cell_type": "code",
   "execution_count": 229,
   "metadata": {},
   "outputs": [
    {
     "data": {
      "text/plain": [
       "0.681344696706812"
      ]
     },
     "execution_count": 229,
     "metadata": {},
     "output_type": "execute_result"
    }
   ],
   "source": [
    "xgb_model.score(X_test, y_test)"
   ]
  },
  {
   "cell_type": "code",
   "execution_count": 230,
   "metadata": {},
   "outputs": [
    {
     "data": {
      "text/plain": [
       "0.681344696706812"
      ]
     },
     "execution_count": 230,
     "metadata": {},
     "output_type": "execute_result"
    }
   ],
   "source": [
    "y_pred = xgb_model.predict(X_test)\n",
    "r2_score(y_test, y_pred)\n"
   ]
  },
  {
   "cell_type": "markdown",
   "metadata": {},
   "source": [
    "### CatBoostRegressor"
   ]
  },
  {
   "cell_type": "code",
   "execution_count": 243,
   "metadata": {},
   "outputs": [
    {
     "name": "stdout",
     "output_type": "stream",
     "text": [
      "0:\tlearn: 161440.3425200\ttest: 156840.6005562\tbest: 156840.6005562 (0)\ttotal: 5ms\tremaining: 50s\n",
      "100:\tlearn: 124276.1923956\ttest: 121061.4424564\tbest: 121061.4424564 (100)\ttotal: 514ms\tremaining: 50.4s\n",
      "200:\tlearn: 114494.4120512\ttest: 112320.1873029\tbest: 112320.1873029 (200)\ttotal: 1.01s\tremaining: 49.3s\n",
      "300:\tlearn: 110522.8272629\ttest: 108999.0246043\tbest: 108999.0246043 (300)\ttotal: 1.6s\tremaining: 51.5s\n",
      "400:\tlearn: 108055.2168287\ttest: 107103.9658758\tbest: 107103.9658758 (400)\ttotal: 2.08s\tremaining: 49.7s\n",
      "500:\tlearn: 106408.6889115\ttest: 105876.4800048\tbest: 105876.4800048 (500)\ttotal: 2.62s\tremaining: 49.6s\n",
      "600:\tlearn: 104897.8427471\ttest: 104735.8713046\tbest: 104735.8713046 (600)\ttotal: 3.12s\tremaining: 48.7s\n",
      "700:\tlearn: 103627.8609648\ttest: 103804.4337530\tbest: 103804.4337530 (700)\ttotal: 3.61s\tremaining: 47.8s\n",
      "800:\tlearn: 102573.2214081\ttest: 103126.2868704\tbest: 103126.2868704 (800)\ttotal: 4.08s\tremaining: 46.9s\n",
      "900:\tlearn: 101641.6480822\ttest: 102493.7452943\tbest: 102493.7452943 (900)\ttotal: 4.77s\tremaining: 48.2s\n",
      "1000:\tlearn: 100680.2502359\ttest: 101826.2558043\tbest: 101826.2558043 (1000)\ttotal: 5.63s\tremaining: 50.7s\n",
      "1100:\tlearn: 99668.7203079\ttest: 101103.6452398\tbest: 101103.6452398 (1100)\ttotal: 6.22s\tremaining: 50.3s\n",
      "1200:\tlearn: 98743.2121165\ttest: 100473.2379298\tbest: 100473.2359453 (1199)\ttotal: 6.81s\tremaining: 49.9s\n",
      "1300:\tlearn: 97865.8521573\ttest: 99878.6398629\tbest: 99878.6398629 (1300)\ttotal: 7.31s\tremaining: 48.9s\n",
      "1400:\tlearn: 97131.8002804\ttest: 99386.2828623\tbest: 99386.2828623 (1400)\ttotal: 7.94s\tremaining: 48.7s\n",
      "1500:\tlearn: 96421.7521262\ttest: 98956.5057856\tbest: 98956.5057856 (1500)\ttotal: 8.43s\tremaining: 47.7s\n",
      "1600:\tlearn: 95787.0985514\ttest: 98544.3147674\tbest: 98544.3147674 (1600)\ttotal: 8.91s\tremaining: 46.8s\n",
      "1700:\tlearn: 95207.2600907\ttest: 98194.4385561\tbest: 98194.4385561 (1700)\ttotal: 9.38s\tremaining: 45.7s\n",
      "1800:\tlearn: 94633.5512933\ttest: 97877.1421819\tbest: 97877.1421819 (1800)\ttotal: 9.85s\tremaining: 44.8s\n",
      "1900:\tlearn: 94114.1252474\ttest: 97544.1554837\tbest: 97544.1554837 (1900)\ttotal: 10.3s\tremaining: 44s\n",
      "2000:\tlearn: 93626.1205290\ttest: 97296.1464844\tbest: 97296.1464844 (2000)\ttotal: 10.8s\tremaining: 43.2s\n",
      "2100:\tlearn: 93185.4746627\ttest: 97037.2685075\tbest: 97037.2685075 (2100)\ttotal: 11.3s\tremaining: 42.5s\n",
      "2200:\tlearn: 92757.7237661\ttest: 96805.0644883\tbest: 96805.0644883 (2200)\ttotal: 11.8s\tremaining: 41.9s\n",
      "2300:\tlearn: 92334.8368650\ttest: 96592.4271743\tbest: 96592.4271743 (2300)\ttotal: 12.4s\tremaining: 41.5s\n",
      "2400:\tlearn: 91922.8326504\ttest: 96377.1380119\tbest: 96377.1380119 (2400)\ttotal: 12.9s\tremaining: 40.9s\n",
      "2500:\tlearn: 91567.9507660\ttest: 96202.4983840\tbest: 96202.4983840 (2500)\ttotal: 13.7s\tremaining: 41.1s\n",
      "2600:\tlearn: 91208.8057476\ttest: 96034.5038775\tbest: 96034.5038775 (2600)\ttotal: 14.3s\tremaining: 40.7s\n",
      "2700:\tlearn: 90846.0675816\ttest: 95909.5690761\tbest: 95909.5690761 (2700)\ttotal: 14.9s\tremaining: 40.4s\n",
      "2800:\tlearn: 90493.5053425\ttest: 95766.0628216\tbest: 95766.0628216 (2800)\ttotal: 15.7s\tremaining: 40.4s\n",
      "2900:\tlearn: 90160.8087152\ttest: 95615.9095013\tbest: 95615.9095013 (2900)\ttotal: 16.5s\tremaining: 40.3s\n",
      "3000:\tlearn: 89858.4466505\ttest: 95499.7638374\tbest: 95499.5334866 (2997)\ttotal: 17s\tremaining: 39.6s\n",
      "3100:\tlearn: 89559.7026713\ttest: 95407.6145008\tbest: 95407.6145008 (3100)\ttotal: 17.6s\tremaining: 39.1s\n",
      "Stopped by overfitting detector  (10 iterations wait)\n",
      "\n",
      "bestTest = 95339.69997\n",
      "bestIteration = 3158\n",
      "\n",
      "Shrink model to first 3159 iterations.\n",
      "{'iterations': 10000, 'learning_rate': 0.01, 'depth': 7, 'loss_function': 'RMSE', 'od_type': 'Iter', 'random_seed': 42}\n"
     ]
    }
   ],
   "source": [
    "from catboost import CatBoostRegressor\n",
    "\n",
    "cbr_model = CatBoostRegressor(learning_rate=0.01, depth=7, iterations=10000, random_seed=42, loss_function='RMSE', od_type='Iter')\n",
    "fit_model = cbr_model.fit(X_train,\n",
    "                          y_train,\n",
    "                          eval_set=(X_test, y_test),\n",
    "                          use_best_model=True,\n",
    "                          early_stopping_rounds=10,\n",
    "                          verbose=100)\n",
    "\n",
    "print(fit_model.get_params())"
   ]
  },
  {
   "cell_type": "code",
   "execution_count": 244,
   "metadata": {},
   "outputs": [
    {
     "data": {
      "text/plain": [
       "-3182.5298032024875"
      ]
     },
     "execution_count": 244,
     "metadata": {},
     "output_type": "execute_result"
    }
   ],
   "source": [
    "fit_model.score(X_test, y_test)"
   ]
  },
  {
   "cell_type": "code",
   "execution_count": 245,
   "metadata": {},
   "outputs": [
    {
     "data": {
      "text/plain": [
       "0.6961512235283371"
      ]
     },
     "execution_count": 245,
     "metadata": {},
     "output_type": "execute_result"
    }
   ],
   "source": [
    "y_pred = fit_model.predict(X_train)\n",
    "r2_score(y_train, y_pred)"
   ]
  },
  {
   "cell_type": "code",
   "execution_count": 246,
   "metadata": {},
   "outputs": [
    {
     "data": {
      "text/plain": [
       "0.6328964366276302"
      ]
     },
     "execution_count": 246,
     "metadata": {},
     "output_type": "execute_result"
    }
   ],
   "source": [
    "y_pred = fit_model.predict(X_test)\n",
    "r2_score(y_test, y_pred)"
   ]
  },
  {
   "cell_type": "markdown",
   "metadata": {},
   "source": [
    "## Pickle it"
   ]
  },
  {
   "cell_type": "code",
   "execution_count": 247,
   "metadata": {},
   "outputs": [],
   "source": [
    "# import pickle\n",
    "# tup = (xgb_model, ss)\n",
    "# pickle.dump(tup, open(\"model_bin/house_model.p\", \"wb\" ))"
   ]
  },
  {
   "cell_type": "code",
   "execution_count": null,
   "metadata": {},
   "outputs": [],
   "source": []
  }
 ],
 "metadata": {
  "kernelspec": {
   "display_name": "Python 3",
   "language": "python",
   "name": "python3"
  },
  "language_info": {
   "codemirror_mode": {
    "name": "ipython",
    "version": 3
   },
   "file_extension": ".py",
   "mimetype": "text/x-python",
   "name": "python",
   "nbconvert_exporter": "python",
   "pygments_lexer": "ipython3",
   "version": "3.8.5"
  }
 },
 "nbformat": 4,
 "nbformat_minor": 1
}
